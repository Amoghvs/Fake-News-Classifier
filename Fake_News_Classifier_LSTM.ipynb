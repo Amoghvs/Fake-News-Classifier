{
  "nbformat": 4,
  "nbformat_minor": 0,
  "metadata": {
    "accelerator": "GPU",
    "colab": {
      "name": "Fake_News_Classifier LSTM.ipynb",
      "provenance": [],
      "collapsed_sections": []
    },
    "kernelspec": {
      "display_name": "Python 3",
      "language": "python",
      "name": "python3"
    },
    "language_info": {
      "codemirror_mode": {
        "name": "ipython",
        "version": 3
      },
      "file_extension": ".py",
      "mimetype": "text/x-python",
      "name": "python",
      "nbconvert_exporter": "python",
      "pygments_lexer": "ipython3",
      "version": "3.7.6"
    }
  },
  "cells": [
    {
      "cell_type": "code",
      "metadata": {
        "id": "IVD-uMDdLIUS"
      },
      "source": [
        "import numpy as np\n",
        "import pandas as pd\n",
        "import requests\n",
        "from io import StringIO\n",
        "from sklearn.feature_extraction.text import CountVectorizer, TfidfVectorizer, HashingVectorizer\n",
        "from sklearn.metrics import accuracy_score\n",
        "from sklearn.metrics import confusion_matrix\n",
        "from sklearn.metrics import precision_score\n",
        "from sklearn.metrics import recall_score\n",
        "import pandas as pd\n",
        "from sklearn.linear_model import PassiveAggressiveClassifier\n",
        "from sklearn.feature_extraction.text import TfidfVectorizer\n",
        "from sklearn.naive_bayes import GaussianNB\n",
        "from sklearn.tree import DecisionTreeClassifier\n",
        "from sklearn.model_selection import train_test_split\n",
        "from sklearn.ensemble import RandomForestClassifier\n",
        "from sklearn.svm import SVC\n",
        "from sklearn.linear_model import LogisticRegression\n",
        "from sklearn.metrics import accuracy_score\n",
        "from sklearn.metrics import confusion_matrix\n",
        "import matplotlib.pyplot as plt\n",
        "from mlxtend.plotting import plot_confusion_matrix\n",
        "from collections import Counter\n",
        "from nltk.tokenize import word_tokenize\n",
        "import warnings\n",
        "warnings.filterwarnings('ignore')\n",
        "from sklearn.preprocessing import LabelEncoder\n",
        "from imblearn.over_sampling import SMOTE\n",
        "from mlxtend.plotting import plot_confusion_matrix\n",
        "from sklearn.naive_bayes import MultinomialNB\n",
        "from sklearn import metrics\n",
        "from sklearn.linear_model import SGDClassifier\n",
        "from sklearn.metrics import classification_report\n",
        "import re\n",
        "import tensorflow as tf\n",
        "import seaborn as sns\n",
        "import nltk\n",
        "import re\n",
        "from nltk.corpus import stopwords\n",
        "nltk.corpus.util.LazyCorpusLoader\n",
        "\n",
        "from nltk.stem.porter import PorterStemmer\n",
        "from wordcloud import WordCloud,STOPWORDS\n",
        "from nltk.stem import WordNetLemmatizer\n",
        "from nltk.tokenize import word_tokenize,sent_tokenize"
      ],
      "execution_count": null,
      "outputs": []
    },
    {
      "cell_type": "code",
      "metadata": {
        "colab": {
          "base_uri": "https://localhost:8080/"
        },
        "id": "5PldKTI7LM0H",
        "outputId": "a1c30489-a2f4-4bb4-a6b0-35903acc2549"
      },
      "source": [
        "from google.colab import drive\n",
        "drive.mount('/content/gdrive')"
      ],
      "execution_count": null,
      "outputs": [
        {
          "output_type": "stream",
          "text": [
            "Mounted at /content/gdrive\n"
          ],
          "name": "stdout"
        }
      ]
    },
    {
      "cell_type": "code",
      "metadata": {
        "colab": {
          "base_uri": "https://localhost:8080/"
        },
        "id": "73tMWBN_LIUY",
        "outputId": "becb1ebe-9680-48a9-e4f4-1324bb687387"
      },
      "source": [
        "train = pd.read_csv(\"/content/gdrive/My Drive/FakeNewsDataSet/train.csv\")\n",
        "test = pd.read_csv(\"/content/gdrive/My Drive/FakeNewsDataSet/test.csv\")\n",
        "train.shape"
      ],
      "execution_count": null,
      "outputs": [
        {
          "output_type": "execute_result",
          "data": {
            "text/plain": [
              "(256442, 6)"
            ]
          },
          "metadata": {
            "tags": []
          },
          "execution_count": 4
        }
      ]
    },
    {
      "cell_type": "code",
      "metadata": {
        "colab": {
          "base_uri": "https://localhost:8080/",
          "height": 204
        },
        "id": "ASb0V1tRLIUb",
        "outputId": "99340b52-2fd2-4c17-87c1-fd45b10032b0"
      },
      "source": [
        "train.head()\n"
      ],
      "execution_count": null,
      "outputs": [
        {
          "output_type": "execute_result",
          "data": {
            "text/html": [
              "<div>\n",
              "<style scoped>\n",
              "    .dataframe tbody tr th:only-of-type {\n",
              "        vertical-align: middle;\n",
              "    }\n",
              "\n",
              "    .dataframe tbody tr th {\n",
              "        vertical-align: top;\n",
              "    }\n",
              "\n",
              "    .dataframe thead th {\n",
              "        text-align: right;\n",
              "    }\n",
              "</style>\n",
              "<table border=\"1\" class=\"dataframe\">\n",
              "  <thead>\n",
              "    <tr style=\"text-align: right;\">\n",
              "      <th></th>\n",
              "      <th>id</th>\n",
              "      <th>tid1</th>\n",
              "      <th>tid2</th>\n",
              "      <th>title1_en</th>\n",
              "      <th>title2_en</th>\n",
              "      <th>label</th>\n",
              "    </tr>\n",
              "  </thead>\n",
              "  <tbody>\n",
              "    <tr>\n",
              "      <th>0</th>\n",
              "      <td>195611</td>\n",
              "      <td>0</td>\n",
              "      <td>1</td>\n",
              "      <td>There are two new old-age insurance benefits f...</td>\n",
              "      <td>Police disprove \"bird's nest congress each per...</td>\n",
              "      <td>unrelated</td>\n",
              "    </tr>\n",
              "    <tr>\n",
              "      <th>1</th>\n",
              "      <td>191474</td>\n",
              "      <td>2</td>\n",
              "      <td>3</td>\n",
              "      <td>\"If you do not come to Shenzhen, sooner or lat...</td>\n",
              "      <td>Shenzhen's GDP outstrips Hong Kong? Shenzhen S...</td>\n",
              "      <td>unrelated</td>\n",
              "    </tr>\n",
              "    <tr>\n",
              "      <th>2</th>\n",
              "      <td>25300</td>\n",
              "      <td>2</td>\n",
              "      <td>4</td>\n",
              "      <td>\"If you do not come to Shenzhen, sooner or lat...</td>\n",
              "      <td>The GDP overtopped Hong Kong? Shenzhen clarifi...</td>\n",
              "      <td>unrelated</td>\n",
              "    </tr>\n",
              "    <tr>\n",
              "      <th>3</th>\n",
              "      <td>123757</td>\n",
              "      <td>2</td>\n",
              "      <td>8</td>\n",
              "      <td>\"If you do not come to Shenzhen, sooner or lat...</td>\n",
              "      <td>Shenzhen's GDP overtakes Hong Kong? Bureau of ...</td>\n",
              "      <td>unrelated</td>\n",
              "    </tr>\n",
              "    <tr>\n",
              "      <th>4</th>\n",
              "      <td>141761</td>\n",
              "      <td>2</td>\n",
              "      <td>11</td>\n",
              "      <td>\"If you do not come to Shenzhen, sooner or lat...</td>\n",
              "      <td>Shenzhen's GDP outpaces Hong Kong? Defending R...</td>\n",
              "      <td>unrelated</td>\n",
              "    </tr>\n",
              "  </tbody>\n",
              "</table>\n",
              "</div>"
            ],
            "text/plain": [
              "       id  tid1  ...                                          title2_en      label\n",
              "0  195611     0  ...  Police disprove \"bird's nest congress each per...  unrelated\n",
              "1  191474     2  ...  Shenzhen's GDP outstrips Hong Kong? Shenzhen S...  unrelated\n",
              "2   25300     2  ...  The GDP overtopped Hong Kong? Shenzhen clarifi...  unrelated\n",
              "3  123757     2  ...  Shenzhen's GDP overtakes Hong Kong? Bureau of ...  unrelated\n",
              "4  141761     2  ...  Shenzhen's GDP outpaces Hong Kong? Defending R...  unrelated\n",
              "\n",
              "[5 rows x 6 columns]"
            ]
          },
          "metadata": {
            "tags": []
          },
          "execution_count": 5
        }
      ]
    },
    {
      "cell_type": "code",
      "metadata": {
        "colab": {
          "base_uri": "https://localhost:8080/"
        },
        "id": "jdtYbWPbLIUe",
        "outputId": "44ce3a69-7435-45cc-dae5-b76a8f4214e5"
      },
      "source": [
        "train.info()"
      ],
      "execution_count": null,
      "outputs": [
        {
          "output_type": "stream",
          "text": [
            "<class 'pandas.core.frame.DataFrame'>\n",
            "RangeIndex: 256442 entries, 0 to 256441\n",
            "Data columns (total 6 columns):\n",
            " #   Column     Non-Null Count   Dtype \n",
            "---  ------     --------------   ----- \n",
            " 0   id         256442 non-null  int64 \n",
            " 1   tid1       256442 non-null  int64 \n",
            " 2   tid2       256442 non-null  int64 \n",
            " 3   title1_en  256442 non-null  object\n",
            " 4   title2_en  256442 non-null  object\n",
            " 5   label      256442 non-null  object\n",
            "dtypes: int64(3), object(3)\n",
            "memory usage: 11.7+ MB\n"
          ],
          "name": "stdout"
        }
      ]
    },
    {
      "cell_type": "markdown",
      "metadata": {
        "id": "dHIJEnnxLIYd"
      },
      "source": [
        "## LSTM2"
      ]
    },
    {
      "cell_type": "code",
      "metadata": {
        "id": "xmzZ5ZcJLIYd"
      },
      "source": [
        "import jieba.posseg as pseg\n",
        "#train=pd.read_csv(\"/content/gdrive/My Drive/FakeNewsDataSet/train.csv\")\n",
        "cols = ['title1_en', \n",
        "        'title2_en', \n",
        "        'label']"
      ],
      "execution_count": null,
      "outputs": []
    },
    {
      "cell_type": "code",
      "metadata": {
        "colab": {
          "base_uri": "https://localhost:8080/",
          "height": 142
        },
        "id": "5-KEGlYMLIYe",
        "outputId": "2b41557d-e3e0-4404-82c6-547987640e82"
      },
      "source": [
        "train = train.loc[:, cols]\n",
        "train.head(3)"
      ],
      "execution_count": null,
      "outputs": [
        {
          "output_type": "execute_result",
          "data": {
            "text/html": [
              "<div>\n",
              "<style scoped>\n",
              "    .dataframe tbody tr th:only-of-type {\n",
              "        vertical-align: middle;\n",
              "    }\n",
              "\n",
              "    .dataframe tbody tr th {\n",
              "        vertical-align: top;\n",
              "    }\n",
              "\n",
              "    .dataframe thead th {\n",
              "        text-align: right;\n",
              "    }\n",
              "</style>\n",
              "<table border=\"1\" class=\"dataframe\">\n",
              "  <thead>\n",
              "    <tr style=\"text-align: right;\">\n",
              "      <th></th>\n",
              "      <th>title1_en</th>\n",
              "      <th>title2_en</th>\n",
              "      <th>label</th>\n",
              "    </tr>\n",
              "  </thead>\n",
              "  <tbody>\n",
              "    <tr>\n",
              "      <th>0</th>\n",
              "      <td>There are two new old-age insurance benefits f...</td>\n",
              "      <td>Police disprove \"bird's nest congress each per...</td>\n",
              "      <td>unrelated</td>\n",
              "    </tr>\n",
              "    <tr>\n",
              "      <th>1</th>\n",
              "      <td>\"If you do not come to Shenzhen, sooner or lat...</td>\n",
              "      <td>Shenzhen's GDP outstrips Hong Kong? Shenzhen S...</td>\n",
              "      <td>unrelated</td>\n",
              "    </tr>\n",
              "    <tr>\n",
              "      <th>2</th>\n",
              "      <td>\"If you do not come to Shenzhen, sooner or lat...</td>\n",
              "      <td>The GDP overtopped Hong Kong? Shenzhen clarifi...</td>\n",
              "      <td>unrelated</td>\n",
              "    </tr>\n",
              "  </tbody>\n",
              "</table>\n",
              "</div>"
            ],
            "text/plain": [
              "                                           title1_en  ...      label\n",
              "0  There are two new old-age insurance benefits f...  ...  unrelated\n",
              "1  \"If you do not come to Shenzhen, sooner or lat...  ...  unrelated\n",
              "2  \"If you do not come to Shenzhen, sooner or lat...  ...  unrelated\n",
              "\n",
              "[3 rows x 3 columns]"
            ]
          },
          "metadata": {
            "tags": []
          },
          "execution_count": 8
        }
      ]
    },
    {
      "cell_type": "code",
      "metadata": {
        "id": "GhKMhIBuLIYi"
      },
      "source": [
        "def jieba_tokenizer(text):\n",
        "    words = pseg.cut(text)\n",
        "    return ' '.join([\n",
        "        word for word, flag in words if flag != 'x'])"
      ],
      "execution_count": null,
      "outputs": []
    },
    {
      "cell_type": "code",
      "metadata": {
        "colab": {
          "base_uri": "https://localhost:8080/"
        },
        "id": "mQJw0uw8LIYj",
        "outputId": "59c4450e-df18-4bd2-8cc2-f24319aab2ae"
      },
      "source": [
        "train.title2_en.fillna('UNKNOWN', inplace=True)\n",
        "train.isna().any()"
      ],
      "execution_count": null,
      "outputs": [
        {
          "output_type": "execute_result",
          "data": {
            "text/plain": [
              "title1_en    False\n",
              "title2_en    False\n",
              "label        False\n",
              "dtype: bool"
            ]
          },
          "metadata": {
            "tags": []
          },
          "execution_count": 10
        }
      ]
    },
    {
      "cell_type": "code",
      "metadata": {
        "id": "FnVKXe6hLIYj"
      },
      "source": [
        "def process(data):\n",
        "    res = data.apply(jieba_tokenizer)\n",
        "    return res\n",
        "\n",
        "\n",
        "def check_merge_idx(data, res):\n",
        "    assert((data.index == res.index).all(), 'Something error when merge data')\n",
        "\n",
        "def parallelize(data, func):\n",
        "    from multiprocessing import cpu_count, Pool\n",
        "    cores = partitions = cpu_count()\n",
        "    data_split = np.array_split(data, partitions)\n",
        "    pool = Pool(cores)\n",
        "    res = pd.concat(pool.map(func, data_split))\n",
        "    pool.close()\n",
        "    pool.join()\n",
        "    check_merge_idx(data, res)\n",
        "    return res"
      ],
      "execution_count": null,
      "outputs": []
    },
    {
      "cell_type": "code",
      "metadata": {
        "colab": {
          "base_uri": "https://localhost:8080/"
        },
        "id": "UkDMqGO-LIYk",
        "outputId": "91a976a1-2f7c-4e43-f805-888d7744f76a"
      },
      "source": [
        "np.all(train.index == train.title1_en.index)\n"
      ],
      "execution_count": null,
      "outputs": [
        {
          "output_type": "execute_result",
          "data": {
            "text/plain": [
              "True"
            ]
          },
          "metadata": {
            "tags": []
          },
          "execution_count": 12
        }
      ]
    },
    {
      "cell_type": "code",
      "metadata": {
        "colab": {
          "base_uri": "https://localhost:8080/"
        },
        "id": "I6TAK6zlLIYm",
        "outputId": "e40eaa34-b755-4390-c10e-819c5cfb5f8e"
      },
      "source": [
        "train['title1_tokenized'] = parallelize(train.loc[:, 'title1_en'], process)\n",
        "train['title2_tokenized'] = parallelize(train.loc[:, 'title2_en'], process)\n",
        "train.to_csv('tokenized_train.csv',index=True)"
      ],
      "execution_count": null,
      "outputs": [
        {
          "output_type": "stream",
          "text": [
            "Building prefix dict from the default dictionary ...\n",
            "Building prefix dict from the default dictionary ...\n",
            "Dumping model to file cache /tmp/jieba.cache\n",
            "Dumping model to file cache /tmp/jieba.cache\n",
            "Loading model cost 1.336 seconds.\n",
            "Prefix dict has been built successfully.\n",
            "Loading model cost 1.381 seconds.\n",
            "Prefix dict has been built successfully.\n",
            "Building prefix dict from the default dictionary ...\n",
            "Loading model from cache /tmp/jieba.cache\n",
            "Building prefix dict from the default dictionary ...\n",
            "Loading model from cache /tmp/jieba.cache\n",
            "Loading model cost 1.028 seconds.\n",
            "Prefix dict has been built successfully.\n",
            "Loading model cost 1.045 seconds.\n",
            "Prefix dict has been built successfully.\n"
          ],
          "name": "stderr"
        }
      ]
    },
    {
      "cell_type": "code",
      "metadata": {
        "colab": {
          "base_uri": "https://localhost:8080/",
          "height": 359
        },
        "id": "6nU09HfuLIYn",
        "outputId": "3c07eaf4-915b-47b4-bdc6-b11184d9d94d"
      },
      "source": [
        "train.loc[:, [\"title1_en\", \"title1_tokenized\"]].head(10)\n"
      ],
      "execution_count": null,
      "outputs": [
        {
          "output_type": "execute_result",
          "data": {
            "text/html": [
              "<div>\n",
              "<style scoped>\n",
              "    .dataframe tbody tr th:only-of-type {\n",
              "        vertical-align: middle;\n",
              "    }\n",
              "\n",
              "    .dataframe tbody tr th {\n",
              "        vertical-align: top;\n",
              "    }\n",
              "\n",
              "    .dataframe thead th {\n",
              "        text-align: right;\n",
              "    }\n",
              "</style>\n",
              "<table border=\"1\" class=\"dataframe\">\n",
              "  <thead>\n",
              "    <tr style=\"text-align: right;\">\n",
              "      <th></th>\n",
              "      <th>title1_en</th>\n",
              "      <th>title1_tokenized</th>\n",
              "    </tr>\n",
              "  </thead>\n",
              "  <tbody>\n",
              "    <tr>\n",
              "      <th>0</th>\n",
              "      <td>There are two new old-age insurance benefits f...</td>\n",
              "      <td>There are two new old age insurance benefits f...</td>\n",
              "    </tr>\n",
              "    <tr>\n",
              "      <th>1</th>\n",
              "      <td>\"If you do not come to Shenzhen, sooner or lat...</td>\n",
              "      <td>If you do not come to Shenzhen sooner or later...</td>\n",
              "    </tr>\n",
              "    <tr>\n",
              "      <th>2</th>\n",
              "      <td>\"If you do not come to Shenzhen, sooner or lat...</td>\n",
              "      <td>If you do not come to Shenzhen sooner or later...</td>\n",
              "    </tr>\n",
              "    <tr>\n",
              "      <th>3</th>\n",
              "      <td>\"If you do not come to Shenzhen, sooner or lat...</td>\n",
              "      <td>If you do not come to Shenzhen sooner or later...</td>\n",
              "    </tr>\n",
              "    <tr>\n",
              "      <th>4</th>\n",
              "      <td>\"If you do not come to Shenzhen, sooner or lat...</td>\n",
              "      <td>If you do not come to Shenzhen sooner or later...</td>\n",
              "    </tr>\n",
              "    <tr>\n",
              "      <th>5</th>\n",
              "      <td>\"How to discriminate oil from gutter oil by me...</td>\n",
              "      <td>How to discriminate oil from gutter oil by mea...</td>\n",
              "    </tr>\n",
              "    <tr>\n",
              "      <th>6</th>\n",
              "      <td>\"How to discriminate oil from gutter oil by me...</td>\n",
              "      <td>How to discriminate oil from gutter oil by mea...</td>\n",
              "    </tr>\n",
              "    <tr>\n",
              "      <th>7</th>\n",
              "      <td>\"How to discriminate oil from gutter oil by me...</td>\n",
              "      <td>How to discriminate oil from gutter oil by mea...</td>\n",
              "    </tr>\n",
              "    <tr>\n",
              "      <th>8</th>\n",
              "      <td>It took 30 years of cooking oil to know that o...</td>\n",
              "      <td>It took 30 years of cooking oil to know that o...</td>\n",
              "    </tr>\n",
              "    <tr>\n",
              "      <th>9</th>\n",
              "      <td>It took 30 years of cooking oil to know that o...</td>\n",
              "      <td>It took 30 years of cooking oil to know that o...</td>\n",
              "    </tr>\n",
              "  </tbody>\n",
              "</table>\n",
              "</div>"
            ],
            "text/plain": [
              "                                           title1_en                                   title1_tokenized\n",
              "0  There are two new old-age insurance benefits f...  There are two new old age insurance benefits f...\n",
              "1  \"If you do not come to Shenzhen, sooner or lat...  If you do not come to Shenzhen sooner or later...\n",
              "2  \"If you do not come to Shenzhen, sooner or lat...  If you do not come to Shenzhen sooner or later...\n",
              "3  \"If you do not come to Shenzhen, sooner or lat...  If you do not come to Shenzhen sooner or later...\n",
              "4  \"If you do not come to Shenzhen, sooner or lat...  If you do not come to Shenzhen sooner or later...\n",
              "5  \"How to discriminate oil from gutter oil by me...  How to discriminate oil from gutter oil by mea...\n",
              "6  \"How to discriminate oil from gutter oil by me...  How to discriminate oil from gutter oil by mea...\n",
              "7  \"How to discriminate oil from gutter oil by me...  How to discriminate oil from gutter oil by mea...\n",
              "8  It took 30 years of cooking oil to know that o...  It took 30 years of cooking oil to know that o...\n",
              "9  It took 30 years of cooking oil to know that o...  It took 30 years of cooking oil to know that o..."
            ]
          },
          "metadata": {
            "tags": []
          },
          "execution_count": 14
        }
      ]
    },
    {
      "cell_type": "code",
      "metadata": {
        "colab": {
          "base_uri": "https://localhost:8080/",
          "height": 359
        },
        "id": "rjghDMGWLIYo",
        "outputId": "b7738a9a-9ad8-48a9-8b19-53a6766a5648"
      },
      "source": [
        "train.loc[:, [\"title2_en\", \"title2_tokenized\"]].head(10)\n"
      ],
      "execution_count": null,
      "outputs": [
        {
          "output_type": "execute_result",
          "data": {
            "text/html": [
              "<div>\n",
              "<style scoped>\n",
              "    .dataframe tbody tr th:only-of-type {\n",
              "        vertical-align: middle;\n",
              "    }\n",
              "\n",
              "    .dataframe tbody tr th {\n",
              "        vertical-align: top;\n",
              "    }\n",
              "\n",
              "    .dataframe thead th {\n",
              "        text-align: right;\n",
              "    }\n",
              "</style>\n",
              "<table border=\"1\" class=\"dataframe\">\n",
              "  <thead>\n",
              "    <tr style=\"text-align: right;\">\n",
              "      <th></th>\n",
              "      <th>title2_en</th>\n",
              "      <th>title2_tokenized</th>\n",
              "    </tr>\n",
              "  </thead>\n",
              "  <tbody>\n",
              "    <tr>\n",
              "      <th>0</th>\n",
              "      <td>Police disprove \"bird's nest congress each per...</td>\n",
              "      <td>Police disprove bird nest congress each person...</td>\n",
              "    </tr>\n",
              "    <tr>\n",
              "      <th>1</th>\n",
              "      <td>Shenzhen's GDP outstrips Hong Kong? Shenzhen S...</td>\n",
              "      <td>Shenzhen GDP outstrips Hong Kong Shenzhen Stat...</td>\n",
              "    </tr>\n",
              "    <tr>\n",
              "      <th>2</th>\n",
              "      <td>The GDP overtopped Hong Kong? Shenzhen clarifi...</td>\n",
              "      <td>The GDP overtopped Hong Kong Shenzhen clarifie...</td>\n",
              "    </tr>\n",
              "    <tr>\n",
              "      <th>3</th>\n",
              "      <td>Shenzhen's GDP overtakes Hong Kong? Bureau of ...</td>\n",
              "      <td>Shenzhen GDP overtakes Hong Kong Bureau of Sta...</td>\n",
              "    </tr>\n",
              "    <tr>\n",
              "      <th>4</th>\n",
              "      <td>Shenzhen's GDP outpaces Hong Kong? Defending R...</td>\n",
              "      <td>Shenzhen GDP outpaces Hong Kong Defending Rumo...</td>\n",
              "    </tr>\n",
              "    <tr>\n",
              "      <th>5</th>\n",
              "      <td>It's very practical to use a single piece of g...</td>\n",
              "      <td>It very practical to use single piece of garli...</td>\n",
              "    </tr>\n",
              "    <tr>\n",
              "      <th>6</th>\n",
              "      <td>Differential gutter oil can be identified with...</td>\n",
              "      <td>Differential gutter oil can be identified with...</td>\n",
              "    </tr>\n",
              "    <tr>\n",
              "      <th>7</th>\n",
              "      <td>stir-fried garlic to identify gutter oil</td>\n",
              "      <td>stir fried garlic to identify gutter oil</td>\n",
              "    </tr>\n",
              "    <tr>\n",
              "      <th>8</th>\n",
              "      <td>A single piece of garlic can spot gutter oil? ...</td>\n",
              "      <td>single piece of garlic can spot gutter oil Com...</td>\n",
              "    </tr>\n",
              "    <tr>\n",
              "      <th>9</th>\n",
              "      <td>Use a garlic to distinguish oil from oil, very...</td>\n",
              "      <td>Use garlic to distinguish oil from oil very pr...</td>\n",
              "    </tr>\n",
              "  </tbody>\n",
              "</table>\n",
              "</div>"
            ],
            "text/plain": [
              "                                           title2_en                                   title2_tokenized\n",
              "0  Police disprove \"bird's nest congress each per...  Police disprove bird nest congress each person...\n",
              "1  Shenzhen's GDP outstrips Hong Kong? Shenzhen S...  Shenzhen GDP outstrips Hong Kong Shenzhen Stat...\n",
              "2  The GDP overtopped Hong Kong? Shenzhen clarifi...  The GDP overtopped Hong Kong Shenzhen clarifie...\n",
              "3  Shenzhen's GDP overtakes Hong Kong? Bureau of ...  Shenzhen GDP overtakes Hong Kong Bureau of Sta...\n",
              "4  Shenzhen's GDP outpaces Hong Kong? Defending R...  Shenzhen GDP outpaces Hong Kong Defending Rumo...\n",
              "5  It's very practical to use a single piece of g...  It very practical to use single piece of garli...\n",
              "6  Differential gutter oil can be identified with...  Differential gutter oil can be identified with...\n",
              "7           stir-fried garlic to identify gutter oil           stir fried garlic to identify gutter oil\n",
              "8  A single piece of garlic can spot gutter oil? ...  single piece of garlic can spot gutter oil Com...\n",
              "9  Use a garlic to distinguish oil from oil, very...  Use garlic to distinguish oil from oil very pr..."
            ]
          },
          "metadata": {
            "tags": []
          },
          "execution_count": 15
        }
      ]
    },
    {
      "cell_type": "code",
      "metadata": {
        "id": "P8k2_kjULIYp"
      },
      "source": [
        "train.fillna('UNKNOWN', inplace=True)"
      ],
      "execution_count": null,
      "outputs": []
    },
    {
      "cell_type": "code",
      "metadata": {
        "id": "EsesjdISjv8I"
      },
      "source": [
        "import keras"
      ],
      "execution_count": null,
      "outputs": []
    },
    {
      "cell_type": "code",
      "metadata": {
        "id": "xf1CjxrIjriw"
      },
      "source": [
        "MAX_NUM_WORDS = 10000\n",
        "tokenizer = keras \\\n",
        "    .preprocessing \\\n",
        "    .text \\\n",
        "    .Tokenizer(num_words=MAX_NUM_WORDS)"
      ],
      "execution_count": null,
      "outputs": []
    },
    {
      "cell_type": "code",
      "metadata": {
        "colab": {
          "base_uri": "https://localhost:8080/"
        },
        "id": "WFqSgABcjt3X",
        "outputId": "08796212-6652-45f8-e49a-c597b77ec7a0"
      },
      "source": [
        "corpus_x1 = train.title1_tokenized\n",
        "corpus_x2 = train.title2_tokenized\n",
        "corpus = pd.concat([\n",
        "    corpus_x1, corpus_x2])\n",
        "corpus.shape"
      ],
      "execution_count": null,
      "outputs": [
        {
          "output_type": "execute_result",
          "data": {
            "text/plain": [
              "(512884,)"
            ]
          },
          "metadata": {
            "tags": []
          },
          "execution_count": 19
        }
      ]
    },
    {
      "cell_type": "code",
      "metadata": {
        "colab": {
          "base_uri": "https://localhost:8080/",
          "height": 204
        },
        "id": "3n_51TnPjz44",
        "outputId": "7fb8d185-df99-431e-c7d2-d051971c0015"
      },
      "source": [
        "pd.DataFrame(corpus.iloc[:5],\n",
        "             columns=['title'])"
      ],
      "execution_count": null,
      "outputs": [
        {
          "output_type": "execute_result",
          "data": {
            "text/html": [
              "<div>\n",
              "<style scoped>\n",
              "    .dataframe tbody tr th:only-of-type {\n",
              "        vertical-align: middle;\n",
              "    }\n",
              "\n",
              "    .dataframe tbody tr th {\n",
              "        vertical-align: top;\n",
              "    }\n",
              "\n",
              "    .dataframe thead th {\n",
              "        text-align: right;\n",
              "    }\n",
              "</style>\n",
              "<table border=\"1\" class=\"dataframe\">\n",
              "  <thead>\n",
              "    <tr style=\"text-align: right;\">\n",
              "      <th></th>\n",
              "      <th>title</th>\n",
              "    </tr>\n",
              "  </thead>\n",
              "  <tbody>\n",
              "    <tr>\n",
              "      <th>0</th>\n",
              "      <td>There are two new old age insurance benefits f...</td>\n",
              "    </tr>\n",
              "    <tr>\n",
              "      <th>1</th>\n",
              "      <td>If you do not come to Shenzhen sooner or later...</td>\n",
              "    </tr>\n",
              "    <tr>\n",
              "      <th>2</th>\n",
              "      <td>If you do not come to Shenzhen sooner or later...</td>\n",
              "    </tr>\n",
              "    <tr>\n",
              "      <th>3</th>\n",
              "      <td>If you do not come to Shenzhen sooner or later...</td>\n",
              "    </tr>\n",
              "    <tr>\n",
              "      <th>4</th>\n",
              "      <td>If you do not come to Shenzhen sooner or later...</td>\n",
              "    </tr>\n",
              "  </tbody>\n",
              "</table>\n",
              "</div>"
            ],
            "text/plain": [
              "                                               title\n",
              "0  There are two new old age insurance benefits f...\n",
              "1  If you do not come to Shenzhen sooner or later...\n",
              "2  If you do not come to Shenzhen sooner or later...\n",
              "3  If you do not come to Shenzhen sooner or later...\n",
              "4  If you do not come to Shenzhen sooner or later..."
            ]
          },
          "metadata": {
            "tags": []
          },
          "execution_count": 20
        }
      ]
    },
    {
      "cell_type": "code",
      "metadata": {
        "colab": {
          "base_uri": "https://localhost:8080/"
        },
        "id": "KdZ5MMrVj2fn",
        "outputId": "59d4bdce-6a5c-4d83-b226-b5ba051ea0ac"
      },
      "source": [
        "corpus.isna().any()"
      ],
      "execution_count": null,
      "outputs": [
        {
          "output_type": "execute_result",
          "data": {
            "text/plain": [
              "False"
            ]
          },
          "metadata": {
            "tags": []
          },
          "execution_count": 21
        }
      ]
    },
    {
      "cell_type": "code",
      "metadata": {
        "id": "5r0rtwkKj4tP"
      },
      "source": [
        "tokenizer.fit_on_texts(corpus)\n",
        "x1_train = tokenizer \\\n",
        "    .texts_to_sequences(corpus_x1)\n",
        "x2_train = tokenizer \\\n",
        "    .texts_to_sequences(corpus_x2)"
      ],
      "execution_count": null,
      "outputs": []
    },
    {
      "cell_type": "code",
      "metadata": {
        "colab": {
          "base_uri": "https://localhost:8080/"
        },
        "id": "jjJsm089j63P",
        "outputId": "4396f129-0ce5-4e42-85ba-84e875a51b8b"
      },
      "source": [
        "len(x1_train)\n"
      ],
      "execution_count": null,
      "outputs": [
        {
          "output_type": "execute_result",
          "data": {
            "text/plain": [
              "256442"
            ]
          },
          "metadata": {
            "tags": []
          },
          "execution_count": 23
        }
      ]
    },
    {
      "cell_type": "code",
      "metadata": {
        "colab": {
          "base_uri": "https://localhost:8080/"
        },
        "id": "7xRQdPJ2j9OP",
        "outputId": "c1ab0ab1-756d-4df9-9d35-61abb98ceeaf"
      },
      "source": [
        "x1_train[:1]"
      ],
      "execution_count": null,
      "outputs": [
        {
          "output_type": "execute_result",
          "data": {
            "text/plain": [
              "[[66, 16, 57, 28, 23, 251, 557, 786, 11, 23, 29, 6, 87, 446, 20, 8, 431, 178]]"
            ]
          },
          "metadata": {
            "tags": []
          },
          "execution_count": 24
        }
      ]
    },
    {
      "cell_type": "code",
      "metadata": {
        "colab": {
          "base_uri": "https://localhost:8080/"
        },
        "id": "yNjAYrN3kAb3",
        "outputId": "b6515ad8-0305-4131-f416-aa83fb85d7f1"
      },
      "source": [
        "for seq in x1_train[:1]:\n",
        "    print([tokenizer.index_word[idx] for idx in seq])"
      ],
      "execution_count": null,
      "outputs": [
        {
          "output_type": "stream",
          "text": [
            "['there', 'are', 'two', 'new', 'old', 'age', 'insurance', 'benefits', 'for', 'old', 'people', 'in', 'rural', 'areas', 'have', 'you', 'got', 'them']\n"
          ],
          "name": "stdout"
        }
      ]
    },
    {
      "cell_type": "code",
      "metadata": {
        "id": "VvXPvNYqkCYo"
      },
      "source": [
        "MAX_SEQUENCE_LENGTH = 20\n",
        "x1_train = keras \\\n",
        "    .preprocessing \\\n",
        "    .sequence \\\n",
        "    .pad_sequences(x1_train, \n",
        "                   maxlen=MAX_SEQUENCE_LENGTH)\n",
        "\n",
        "x2_train = keras \\\n",
        "    .preprocessing \\\n",
        "    .sequence \\\n",
        "    .pad_sequences(x2_train, \n",
        "                   maxlen=MAX_SEQUENCE_LENGTH)"
      ],
      "execution_count": null,
      "outputs": []
    },
    {
      "cell_type": "code",
      "metadata": {
        "colab": {
          "base_uri": "https://localhost:8080/"
        },
        "id": "YXBESJN9kFsX",
        "outputId": "c54875c9-014e-4399-8c05-dda517837dd0"
      },
      "source": [
        "x1_train[0]"
      ],
      "execution_count": null,
      "outputs": [
        {
          "output_type": "execute_result",
          "data": {
            "text/plain": [
              "array([  0,   0,  66,  16,  57,  28,  23, 251, 557, 786,  11,  23,  29,\n",
              "         6,  87, 446,  20,   8, 431, 178], dtype=int32)"
            ]
          },
          "metadata": {
            "tags": []
          },
          "execution_count": 27
        }
      ]
    },
    {
      "cell_type": "code",
      "metadata": {
        "id": "vElcVO4qkICf"
      },
      "source": [
        "for seq in x1_train + x2_train:\n",
        "    assert len(seq) == 20\n",
        "    "
      ],
      "execution_count": null,
      "outputs": []
    },
    {
      "cell_type": "code",
      "metadata": {
        "colab": {
          "base_uri": "https://localhost:8080/"
        },
        "id": "DhOS_52AkKWX",
        "outputId": "481c91b2-dcc2-4146-e633-43b8742d457c"
      },
      "source": [
        "train.label[:5]"
      ],
      "execution_count": null,
      "outputs": [
        {
          "output_type": "execute_result",
          "data": {
            "text/plain": [
              "0    unrelated\n",
              "1    unrelated\n",
              "2    unrelated\n",
              "3    unrelated\n",
              "4    unrelated\n",
              "Name: label, dtype: object"
            ]
          },
          "metadata": {
            "tags": []
          },
          "execution_count": 29
        }
      ]
    },
    {
      "cell_type": "code",
      "metadata": {
        "colab": {
          "base_uri": "https://localhost:8080/"
        },
        "id": "U5wt_teOkPRR",
        "outputId": "c0d36699-f748-4653-9dc9-203030b46788"
      },
      "source": [
        "import numpy as np \n",
        "\n",
        "label_to_index = {\n",
        "    'unrelated': 0, \n",
        "    'agreed': 1, \n",
        "    'disagreed': 2\n",
        "}\n",
        "\n",
        "y_train = train.label.apply(\n",
        "    lambda x: label_to_index[x])\n",
        "\n",
        "y_train = np.asarray(y_train) \\\n",
        "            .astype('float32')\n",
        "\n",
        "y_train[:5]"
      ],
      "execution_count": null,
      "outputs": [
        {
          "output_type": "execute_result",
          "data": {
            "text/plain": [
              "array([0., 0., 0., 0., 0.], dtype=float32)"
            ]
          },
          "metadata": {
            "tags": []
          },
          "execution_count": 30
        }
      ]
    },
    {
      "cell_type": "code",
      "metadata": {
        "id": "3jb2oyuTkSvH"
      },
      "source": [
        "NUM_CLASSES = 3\n",
        "MAX_NUM_WORDS = 10000\n",
        "MAX_SEQUENCE_LENGTH = 20\n",
        "NUM_EMBEDDING_DIM = 256\n",
        "NUM_LSTM_UNITS = 128"
      ],
      "execution_count": null,
      "outputs": []
    },
    {
      "cell_type": "code",
      "metadata": {
        "colab": {
          "base_uri": "https://localhost:8080/"
        },
        "id": "HcMkZX8lkXTW",
        "outputId": "583e31dd-b80d-4675-8b78-915330f537d4"
      },
      "source": [
        "x1_train[:5]"
      ],
      "execution_count": null,
      "outputs": [
        {
          "output_type": "execute_result",
          "data": {
            "text/plain": [
              "array([[   0,    0,   66,   16,   57,   28,   23,  251,  557,  786,   11,\n",
              "          23,   29,    6,   87,  446,   20,    8,  431,  178],\n",
              "       [ 141,  834,   38,  197,   13,   90,  200,    6,  387,   74,   78,\n",
              "          33,  748,  582, 5277, 2755,   13, 5104,  524,  632],\n",
              "       [ 141,  834,   38,  197,   13,   90,  200,    6,  387,   74,   78,\n",
              "          33,  748,  582, 5277, 2755,   13, 5104,  524,  632],\n",
              "       [ 141,  834,   38,  197,   13,   90,  200,    6,  387,   74,   78,\n",
              "          33,  748,  582, 5277, 2755,   13, 5104,  524,  632],\n",
              "       [ 141,  834,   38,  197,   13,   90,  200,    6,  387,   74,   78,\n",
              "          33,  748,  582, 5277, 2755,   13, 5104,  524,  632]],\n",
              "      dtype=int32)"
            ]
          },
          "metadata": {
            "tags": []
          },
          "execution_count": 32
        }
      ]
    },
    {
      "cell_type": "code",
      "metadata": {
        "colab": {
          "base_uri": "https://localhost:8080/"
        },
        "id": "k9USX5_3kZlW",
        "outputId": "33b91446-34b7-4100-b7d3-ec21104ddca6"
      },
      "source": [
        "train.label[:5]"
      ],
      "execution_count": null,
      "outputs": [
        {
          "output_type": "execute_result",
          "data": {
            "text/plain": [
              "0    unrelated\n",
              "1    unrelated\n",
              "2    unrelated\n",
              "3    unrelated\n",
              "4    unrelated\n",
              "Name: label, dtype: object"
            ]
          },
          "metadata": {
            "tags": []
          },
          "execution_count": 33
        }
      ]
    },
    {
      "cell_type": "code",
      "metadata": {
        "colab": {
          "base_uri": "https://localhost:8080/"
        },
        "id": "syTwewm4kb6O",
        "outputId": "ec44bac5-483e-4d3a-db27-c46d3f27fd19"
      },
      "source": [
        "y_train = keras \\\n",
        "    .utils \\\n",
        "    .to_categorical(y_train)\n",
        "\n",
        "y_train[:5]"
      ],
      "execution_count": null,
      "outputs": [
        {
          "output_type": "execute_result",
          "data": {
            "text/plain": [
              "array([[1., 0., 0.],\n",
              "       [1., 0., 0.],\n",
              "       [1., 0., 0.],\n",
              "       [1., 0., 0.],\n",
              "       [1., 0., 0.]], dtype=float32)"
            ]
          },
          "metadata": {
            "tags": []
          },
          "execution_count": 34
        }
      ]
    },
    {
      "cell_type": "code",
      "metadata": {
        "id": "9XCH6IaakeZO"
      },
      "source": [
        "from sklearn.model_selection \\\n",
        "    import train_test_split\n",
        "\n",
        "VALIDATION_RATIO = 0.1\n",
        "\n",
        "RANDOM_STATE = 9527\n",
        "\n",
        "x1_train, x1_val, \\\n",
        "x2_train, x2_val, \\\n",
        "y_train, y_val = \\\n",
        "    train_test_split(\n",
        "        x1_train, x2_train, y_train, \n",
        "        test_size=VALIDATION_RATIO, \n",
        "        random_state=RANDOM_STATE\n",
        ")"
      ],
      "execution_count": null,
      "outputs": []
    },
    {
      "cell_type": "code",
      "metadata": {
        "colab": {
          "base_uri": "https://localhost:8080/"
        },
        "id": "_RAU4uNbkjOC",
        "outputId": "15a9e1e8-bfcd-407e-9a6b-f90fa4d22fd0"
      },
      "source": [
        "print(\"Training Set\")\n",
        "print(\"-\" * 10)\n",
        "print(f\"x1_train: {x1_train.shape}\")\n",
        "print(f\"x2_train: {x2_train.shape}\")\n",
        "print(f\"y_train : {y_train.shape}\")\n",
        "\n",
        "print(\"-\" * 10)\n",
        "print(f\"x1_val:   {x1_val.shape}\")\n",
        "print(f\"x2_val:   {x2_val.shape}\")\n",
        "print(f\"y_val :   {y_val.shape}\")\n",
        "print(\"-\" * 10)\n",
        "print(\"Test Set\")"
      ],
      "execution_count": null,
      "outputs": [
        {
          "output_type": "stream",
          "text": [
            "Training Set\n",
            "----------\n",
            "x1_train: (230797, 20)\n",
            "x2_train: (230797, 20)\n",
            "y_train : (230797, 3)\n",
            "----------\n",
            "x1_val:   (25645, 20)\n",
            "x2_val:   (25645, 20)\n",
            "y_val :   (25645, 3)\n",
            "----------\n",
            "Test Set\n"
          ],
          "name": "stdout"
        }
      ]
    },
    {
      "cell_type": "code",
      "metadata": {
        "colab": {
          "base_uri": "https://localhost:8080/"
        },
        "id": "R1Q-laYHklmf",
        "outputId": "61084723-bebe-421d-b53d-c3bffa0ae5fb"
      },
      "source": [
        "from keras import Input\n",
        "from keras.layers import Embedding,LSTM, concatenate, Dense\n",
        "from keras.models import Model\n",
        "\n",
        "top_input = Input(\n",
        "    shape=(MAX_SEQUENCE_LENGTH, ), \n",
        "    dtype='int32')\n",
        "bm_input = Input(\n",
        "    shape=(MAX_SEQUENCE_LENGTH, ), \n",
        "    dtype='int32')\n",
        "\n",
        "embedding_layer = Embedding(\n",
        "    MAX_NUM_WORDS, NUM_EMBEDDING_DIM)\n",
        "top_embedded = embedding_layer(\n",
        "    top_input)\n",
        "bm_embedded = embedding_layer(\n",
        "    bm_input)\n",
        "\n",
        "shared_lstm = LSTM(NUM_LSTM_UNITS)\n",
        "top_output = shared_lstm(top_embedded)\n",
        "bm_output = shared_lstm(bm_embedded)\n",
        "\n",
        "merged = concatenate(\n",
        "    [top_output, bm_output], \n",
        "    axis=-1)\n",
        "\n",
        "\n",
        "dense =  Dense(\n",
        "    units=NUM_CLASSES, \n",
        "    activation='softmax')\n",
        "predictions = dense(merged)\n",
        "\n",
        "model = Model(\n",
        "    inputs=[top_input, bm_input], \n",
        "    outputs=predictions)\n",
        "\n",
        "model.summary()"
      ],
      "execution_count": null,
      "outputs": [
        {
          "output_type": "stream",
          "text": [
            "Model: \"functional_1\"\n",
            "__________________________________________________________________________________________________\n",
            "Layer (type)                    Output Shape         Param #     Connected to                     \n",
            "==================================================================================================\n",
            "input_1 (InputLayer)            [(None, 20)]         0                                            \n",
            "__________________________________________________________________________________________________\n",
            "input_2 (InputLayer)            [(None, 20)]         0                                            \n",
            "__________________________________________________________________________________________________\n",
            "embedding (Embedding)           (None, 20, 256)      2560000     input_1[0][0]                    \n",
            "                                                                 input_2[0][0]                    \n",
            "__________________________________________________________________________________________________\n",
            "lstm (LSTM)                     (None, 128)          197120      embedding[0][0]                  \n",
            "                                                                 embedding[1][0]                  \n",
            "__________________________________________________________________________________________________\n",
            "concatenate (Concatenate)       (None, 256)          0           lstm[0][0]                       \n",
            "                                                                 lstm[1][0]                       \n",
            "__________________________________________________________________________________________________\n",
            "dense (Dense)                   (None, 3)            771         concatenate[0][0]                \n",
            "==================================================================================================\n",
            "Total params: 2,757,891\n",
            "Trainable params: 2,757,891\n",
            "Non-trainable params: 0\n",
            "__________________________________________________________________________________________________\n"
          ],
          "name": "stdout"
        }
      ]
    },
    {
      "cell_type": "code",
      "metadata": {
        "id": "vMKIGcJAktdu"
      },
      "source": [
        "from keras.optimizers import Adam"
      ],
      "execution_count": null,
      "outputs": []
    },
    {
      "cell_type": "code",
      "metadata": {
        "id": "BC6K2YK-kwV-"
      },
      "source": [
        "lr = 1e-3\n",
        "opt = Adam(lr=lr, decay=lr/50)\n",
        "model.compile(\n",
        "    optimizer='adam',\n",
        "    loss='categorical_crossentropy',\n",
        "    metrics=['accuracy'])"
      ],
      "execution_count": null,
      "outputs": []
    },
    {
      "cell_type": "code",
      "metadata": {
        "colab": {
          "base_uri": "https://localhost:8080/"
        },
        "id": "6Rn09_TwkyTn",
        "outputId": "39e18f91-7fae-45fb-e24e-139d270c7ebf"
      },
      "source": [
        "x1_train[:9527].shape"
      ],
      "execution_count": null,
      "outputs": [
        {
          "output_type": "execute_result",
          "data": {
            "text/plain": [
              "(9527, 20)"
            ]
          },
          "metadata": {
            "tags": []
          },
          "execution_count": 41
        }
      ]
    },
    {
      "cell_type": "code",
      "metadata": {
        "colab": {
          "background_save": true,
          "base_uri": "https://localhost:8080/"
        },
        "id": "EkEP6-XRk0uh",
        "outputId": "771e502c-577b-477a-90f7-ab7fd62ab024"
      },
      "source": [
        "BATCH_SIZE = 512\n",
        "\n",
        "NUM_EPOCHS = 25\n",
        "\n",
        "history = model.fit(\n",
        "    x=[x1_train, x2_train], \n",
        "    y=y_train,\n",
        "    batch_size=BATCH_SIZE,\n",
        "    epochs=NUM_EPOCHS,\n",
        "    validation_data=(\n",
        "        [x1_val, x2_val], \n",
        "        y_val\n",
        "    ),\n",
        "    shuffle=True\n",
        ")"
      ],
      "execution_count": null,
      "outputs": [
        {
          "output_type": "stream",
          "text": [
            "Epoch 1/25\n",
            "451/451 [==============================] - 19s 41ms/step - loss: 0.5227 - accuracy: 0.7583 - val_loss: 0.4519 - val_accuracy: 0.7915\n",
            "Epoch 2/25\n",
            "451/451 [==============================] - 18s 40ms/step - loss: 0.4054 - accuracy: 0.8175 - val_loss: 0.4311 - val_accuracy: 0.8044\n",
            "Epoch 3/25\n",
            "451/451 [==============================] - 18s 40ms/step - loss: 0.3608 - accuracy: 0.8399 - val_loss: 0.4259 - val_accuracy: 0.8140\n",
            "Epoch 4/25\n",
            "451/451 [==============================] - 18s 39ms/step - loss: 0.3257 - accuracy: 0.8575 - val_loss: 0.4236 - val_accuracy: 0.8179\n",
            "Epoch 5/25\n",
            "451/451 [==============================] - 18s 40ms/step - loss: 0.2953 - accuracy: 0.8709 - val_loss: 0.4309 - val_accuracy: 0.8208\n",
            "Epoch 6/25\n",
            "451/451 [==============================] - 18s 39ms/step - loss: 0.2670 - accuracy: 0.8847 - val_loss: 0.4485 - val_accuracy: 0.8239\n",
            "Epoch 7/25\n",
            "451/451 [==============================] - 18s 40ms/step - loss: 0.2419 - accuracy: 0.8967 - val_loss: 0.4625 - val_accuracy: 0.8291\n",
            "Epoch 8/25\n",
            "451/451 [==============================] - 17s 39ms/step - loss: 0.2183 - accuracy: 0.9075 - val_loss: 0.4843 - val_accuracy: 0.8239\n",
            "Epoch 9/25\n",
            "451/451 [==============================] - 18s 40ms/step - loss: 0.1973 - accuracy: 0.9176 - val_loss: 0.5041 - val_accuracy: 0.8248\n",
            "Epoch 10/25\n",
            "451/451 [==============================] - 18s 39ms/step - loss: 0.1788 - accuracy: 0.9258 - val_loss: 0.5443 - val_accuracy: 0.8270\n",
            "Epoch 11/25\n",
            "451/451 [==============================] - 18s 39ms/step - loss: 0.1621 - accuracy: 0.9335 - val_loss: 0.5678 - val_accuracy: 0.8249\n",
            "Epoch 12/25\n",
            "451/451 [==============================] - 18s 40ms/step - loss: 0.1481 - accuracy: 0.9399 - val_loss: 0.6065 - val_accuracy: 0.8252\n",
            "Epoch 13/25\n",
            "451/451 [==============================] - 18s 40ms/step - loss: 0.1347 - accuracy: 0.9455 - val_loss: 0.6542 - val_accuracy: 0.8253\n",
            "Epoch 14/25\n",
            "451/451 [==============================] - 18s 40ms/step - loss: 0.1242 - accuracy: 0.9505 - val_loss: 0.6606 - val_accuracy: 0.8255\n",
            "Epoch 15/25\n",
            "451/451 [==============================] - 18s 41ms/step - loss: 0.1141 - accuracy: 0.9550 - val_loss: 0.7161 - val_accuracy: 0.8254\n",
            "Epoch 16/25\n",
            "451/451 [==============================] - 18s 40ms/step - loss: 0.1047 - accuracy: 0.9589 - val_loss: 0.7524 - val_accuracy: 0.8244\n",
            "Epoch 17/25\n",
            "451/451 [==============================] - 18s 41ms/step - loss: 0.0976 - accuracy: 0.9623 - val_loss: 0.7939 - val_accuracy: 0.8235\n",
            "Epoch 18/25\n",
            "451/451 [==============================] - 18s 40ms/step - loss: 0.0913 - accuracy: 0.9646 - val_loss: 0.7891 - val_accuracy: 0.8258\n",
            "Epoch 19/25\n",
            "451/451 [==============================] - 18s 40ms/step - loss: 0.0869 - accuracy: 0.9665 - val_loss: 0.8528 - val_accuracy: 0.8225\n",
            "Epoch 20/25\n",
            "451/451 [==============================] - 18s 40ms/step - loss: 0.0809 - accuracy: 0.9692 - val_loss: 0.8849 - val_accuracy: 0.8267\n",
            "Epoch 21/25\n",
            "451/451 [==============================] - 18s 40ms/step - loss: 0.0771 - accuracy: 0.9710 - val_loss: 0.9085 - val_accuracy: 0.8248\n",
            "Epoch 22/25\n",
            "451/451 [==============================] - 18s 41ms/step - loss: 0.0729 - accuracy: 0.9722 - val_loss: 0.9188 - val_accuracy: 0.8231\n",
            "Epoch 23/25\n",
            "451/451 [==============================] - 18s 40ms/step - loss: 0.0701 - accuracy: 0.9734 - val_loss: 0.9584 - val_accuracy: 0.8240\n",
            "Epoch 24/25\n",
            "451/451 [==============================] - 19s 43ms/step - loss: 0.0673 - accuracy: 0.9746 - val_loss: 0.9607 - val_accuracy: 0.8235\n",
            "Epoch 25/25\n",
            "451/451 [==============================] - 18s 40ms/step - loss: 0.0644 - accuracy: 0.9755 - val_loss: 1.0112 - val_accuracy: 0.8234\n"
          ],
          "name": "stdout"
        }
      ]
    },
    {
      "cell_type": "code",
      "metadata": {
        "colab": {
          "base_uri": "https://localhost:8080/"
        },
        "id": "Ko_1mcWNMzCJ",
        "outputId": "10889d2d-1ba8-49a6-f791-7eee31185e0a"
      },
      "source": [
        "loss, accuracy = model.evaluate([x1_val,x2_val], y_val, verbose=1)\n",
        "print(\"Test: accuracy = %f  ;  loss = %f\" % (accuracy, loss))\n",
        "model.save(\"model_optimizer_sgd.h5\")"
      ],
      "execution_count": null,
      "outputs": [
        {
          "output_type": "stream",
          "text": [
            "802/802 [==============================] - 3s 3ms/step - loss: 1.0112 - accuracy: 0.8234\n",
            "Test: accuracy = 0.823357  ;  loss = 1.011171\n"
          ],
          "name": "stdout"
        }
      ]
    },
    {
      "cell_type": "code",
      "metadata": {
        "colab": {
          "base_uri": "https://localhost:8080/",
          "height": 265
        },
        "id": "SRK_7uUYPpLl",
        "outputId": "8a9eca83-5f0d-43d3-91ad-393faf2ad07d"
      },
      "source": [
        "fig, axs = plt.subplots(2,1)\n",
        "axs[0].plot(history.history['loss'], color = 'b', label = \"Training Loss\")\n",
        "axs[0].plot(history.history['val_loss'], color = 'r', label = \"Validation Loss\", axes = axs[0])\n",
        "legend = axs[0].legend(loc='best', shadow = True)\n",
        "\n",
        "axs[1].plot(history.history['accuracy'], color = 'b', label = \"Training Accuracy\")\n",
        "axs[1].plot(history.history['val_accuracy'], color = 'r', label = \"Validation Accuracy\")\n",
        "legend = axs[1].legend(loc='best', shadow = True)"
      ],
      "execution_count": null,
      "outputs": [
        {
          "output_type": "display_data",
          "data": {
            "image/png": "[encoded data removed]",
            "text/plain": [
              "<Figure size 432x288 with 2 Axes>"
            ]
          },
          "metadata": {
            "tags": [],
            "needs_background": "light"
          }
        }
      ]
    },
    {
      "cell_type": "code",
      "metadata": {
        "id": "hQGXRrCfRi7W"
      },
      "source": [
        "# Function to plot confusion matrix    \n",
        "import itertools\n",
        "labels=['unrelated','agreed','disagreed']\n",
        "def plot_confusion_matrix(cm, classes,\n",
        "                          normalize=False,\n",
        "                          title='Confusion matrix',class_names=labels,\n",
        "                          cmap=plt.cm.Blues):\n",
        "    \"\"\"\n",
        "    This function prints and plots the confusion matrix.\n",
        "    Normalization can be applied by setting `normalize=True`.\n",
        "    \"\"\"\n",
        "    plt.imshow(cm, interpolation='nearest', cmap=cmap)\n",
        "    plt.title(title)\n",
        "    plt.colorbar()\n",
        "    tick_marks = np.arange(len(classes))\n",
        "    plt.xticks(tick_marks, classes, rotation=45)\n",
        "    plt.yticks(tick_marks, classes)\n",
        "\n",
        "    if normalize:\n",
        "        cm = cm.astype('float') / cm.sum(axis=1)[:, np.newaxis]\n",
        "\n",
        "    thresh = cm.max() / 2.\n",
        "    for i, j in itertools.product(range(cm.shape[0]), range(cm.shape[1])):\n",
        "        plt.text(j, i, cm[i, j],\n",
        "                 horizontalalignment=\"center\",\n",
        "                 color=\"white\" if cm[i, j] > thresh else \"black\")\n",
        "\n",
        "    plt.tight_layout()\n",
        "    plt.ylabel('True label')\n",
        "    plt.xlabel('Predicted label')"
      ],
      "execution_count": null,
      "outputs": []
    },
    {
      "cell_type": "code",
      "metadata": {
        "id": "8Ueo1a0xPpTh"
      },
      "source": [
        "y_pred=model.predict([x1_val,x2_val])"
      ],
      "execution_count": null,
      "outputs": []
    },
    {
      "cell_type": "code",
      "metadata": {
        "colab": {
          "base_uri": "https://localhost:8080/"
        },
        "id": "n6g5onrzPpb1",
        "outputId": "87081de7-8a97-432f-920c-b0585eda56a1"
      },
      "source": [
        "y_pred"
      ],
      "execution_count": null,
      "outputs": [
        {
          "output_type": "execute_result",
          "data": {
            "text/plain": [
              "array([[2.5132859e-02, 9.7486705e-01, 1.3917689e-07],\n",
              "       [9.9996805e-01, 2.1240075e-10, 3.1919652e-05],\n",
              "       [4.8793760e-01, 2.3686828e-06, 5.1205999e-01],\n",
              "       ...,\n",
              "       [9.9999595e-01, 5.5906512e-15, 4.0340742e-06],\n",
              "       [1.0000000e+00, 3.3443068e-24, 2.4651894e-09],\n",
              "       [2.3712891e-01, 7.6270783e-01, 1.6322199e-04]], dtype=float32)"
            ]
          },
          "metadata": {
            "tags": []
          },
          "execution_count": 48
        }
      ]
    },
    {
      "cell_type": "code",
      "metadata": {
        "id": "zZTgXyCYRWWz"
      },
      "source": [
        "Y_pred_classes = np.argmax(y_pred,axis = 1) "
      ],
      "execution_count": null,
      "outputs": []
    },
    {
      "cell_type": "code",
      "metadata": {
        "id": "M_KI6QGMRWZf"
      },
      "source": [
        "Y_true = np.argmax(y_val,axis = 1) \n",
        "# compute the confusion matrix\n",
        "confusion_mtx = confusion_matrix(Y_true, Y_pred_classes)\n"
      ],
      "execution_count": null,
      "outputs": []
    },
    {
      "cell_type": "code",
      "metadata": {
        "colab": {
          "base_uri": "https://localhost:8080/",
          "height": 311
        },
        "id": "6cj54LgkRksb",
        "outputId": "7123c78d-82cd-4f40-c533-79e8dd962d62"
      },
      "source": [
        "plot_confusion_matrix(confusion_mtx, classes = range(3),class_names=['unrelated','agreed','disagreed']) \n",
        "##  unrelated: 0 \n",
        "## agreed: 1 \n",
        "## disagreed: 2"
      ],
      "execution_count": null,
      "outputs": [
        {
          "output_type": "display_data",
          "data": {
            "image/png": "[encoded data removed]",
            "text/plain": [
              "<Figure size 432x288 with 2 Axes>"
            ]
          },
          "metadata": {
            "tags": [],
            "needs_background": "light"
          }
        }
      ]
    },
    {
      "cell_type": "code",
      "metadata": {
        "id": "8KWQWbEuRlKe"
      },
      "source": [
        ""
      ],
      "execution_count": null,
      "outputs": []
    },
    {
      "cell_type": "code",
      "metadata": {
        "id": "9b5keYnuRlNF"
      },
      "source": [
        ""
      ],
      "execution_count": null,
      "outputs": []
    },
    {
      "cell_type": "code",
      "metadata": {
        "id": "esou7hyqRlP5"
      },
      "source": [
        ""
      ],
      "execution_count": null,
      "outputs": []
    },
    {
      "cell_type": "code",
      "metadata": {
        "id": "lxnfpV96RlSy"
      },
      "source": [
        ""
      ],
      "execution_count": null,
      "outputs": []
    },
    {
      "cell_type": "code",
      "metadata": {
        "id": "Y6RY3NPdk3CH",
        "colab": {
          "base_uri": "https://localhost:8080/",
          "height": 462
        },
        "outputId": "cb08981e-f0bf-414d-e362-a70e482b39fa"
      },
      "source": [
        "import pandas as pd\n",
        "import os\n",
        "\n",
        "print(\"Use raw test csv\")\n",
        "test = pd.read_csv(\"/content/gdrive/My Drive/FakeNewsDataSet/test.csv\", index_col=0)\n",
        "test.fillna('UNKNOWN', inplace=True)\n",
        "test['title1_tokenized'] = parallelize(test.loc[:, 'title1_en'], process)\n",
        "test['title2_tokenized'] = parallelize(test.loc[:, 'title2_en'], process)\n",
        "test.fillna('UNKNOWN', inplace=True)\n",
        "test.head(3)"
      ],
      "execution_count": null,
      "outputs": [
        {
          "output_type": "stream",
          "text": [
            "Use raw test csv\n"
          ],
          "name": "stdout"
        },
        {
          "output_type": "stream",
          "text": [
            "Building prefix dict from the default dictionary ...\n",
            "Loading model from cache /tmp/jieba.cache\n",
            "Building prefix dict from the default dictionary ...\n",
            "Loading model from cache /tmp/jieba.cache\n",
            "Loading model cost 1.329 seconds.\n",
            "Prefix dict has been built successfully.\n",
            "Loading model cost 1.359 seconds.\n",
            "Prefix dict has been built successfully.\n",
            "Building prefix dict from the default dictionary ...\n",
            "Loading model from cache /tmp/jieba.cache\n",
            "Building prefix dict from the default dictionary ...\n",
            "Loading model from cache /tmp/jieba.cache\n",
            "Loading model cost 1.060 seconds.\n",
            "Prefix dict has been built successfully.\n",
            "Loading model cost 1.078 seconds.\n",
            "Prefix dict has been built successfully.\n"
          ],
          "name": "stderr"
        },
        {
          "output_type": "execute_result",
          "data": {
            "text/html": [
              "<div>\n",
              "<style scoped>\n",
              "    .dataframe tbody tr th:only-of-type {\n",
              "        vertical-align: middle;\n",
              "    }\n",
              "\n",
              "    .dataframe tbody tr th {\n",
              "        vertical-align: top;\n",
              "    }\n",
              "\n",
              "    .dataframe thead th {\n",
              "        text-align: right;\n",
              "    }\n",
              "</style>\n",
              "<table border=\"1\" class=\"dataframe\">\n",
              "  <thead>\n",
              "    <tr style=\"text-align: right;\">\n",
              "      <th></th>\n",
              "      <th>tid1</th>\n",
              "      <th>tid2</th>\n",
              "      <th>title1_en</th>\n",
              "      <th>title2_en</th>\n",
              "      <th>title1_tokenized</th>\n",
              "      <th>title2_tokenized</th>\n",
              "    </tr>\n",
              "    <tr>\n",
              "      <th>id</th>\n",
              "      <th></th>\n",
              "      <th></th>\n",
              "      <th></th>\n",
              "      <th></th>\n",
              "      <th></th>\n",
              "      <th></th>\n",
              "    </tr>\n",
              "  </thead>\n",
              "  <tbody>\n",
              "    <tr>\n",
              "      <th>256442</th>\n",
              "      <td>100672</td>\n",
              "      <td>100673</td>\n",
              "      <td>The great coat brother Zhu Zhu Wen, in the man...</td>\n",
              "      <td>Lin xinsheng after the birth of \"hard milking,...</td>\n",
              "      <td>The great coat brother Zhu Zhu Wen in the mand...</td>\n",
              "      <td>Lin xinsheng after the birth of hard milking H...</td>\n",
              "    </tr>\n",
              "    <tr>\n",
              "      <th>256443</th>\n",
              "      <td>162269</td>\n",
              "      <td>162270</td>\n",
              "      <td>NASA reveals facts about UFO wreckage found on...</td>\n",
              "      <td>The UFO found in Yuancun, Jiaocheng County, Sh...</td>\n",
              "      <td>NASA reveals facts about UFO wreckage found on...</td>\n",
              "      <td>The UFO found in Yuancun Jiaocheng County Shan...</td>\n",
              "    </tr>\n",
              "    <tr>\n",
              "      <th>256444</th>\n",
              "      <td>157826</td>\n",
              "      <td>157854</td>\n",
              "      <td>The hollow tomatoes are loaded with hormones.</td>\n",
              "      <td>Li chenfan bingbing home photos, netizen: this...</td>\n",
              "      <td>The hollow tomatoes are loaded with hormones .</td>\n",
              "      <td>Li chenfan bingbing home photos netizen this i...</td>\n",
              "    </tr>\n",
              "  </tbody>\n",
              "</table>\n",
              "</div>"
            ],
            "text/plain": [
              "          tid1  ...                                   title2_tokenized\n",
              "id              ...                                                   \n",
              "256442  100672  ...  Lin xinsheng after the birth of hard milking H...\n",
              "256443  162269  ...  The UFO found in Yuancun Jiaocheng County Shan...\n",
              "256444  157826  ...  Li chenfan bingbing home photos netizen this i...\n",
              "\n",
              "[3 rows x 6 columns]"
            ]
          },
          "metadata": {
            "tags": []
          },
          "execution_count": 52
        }
      ]
    },
    {
      "cell_type": "code",
      "metadata": {
        "id": "f1Mij1MOlI0C"
      },
      "source": [
        "x1_test = tokenizer \\\n",
        "    .texts_to_sequences(\n",
        "        test.title1_tokenized)\n",
        "x2_test = tokenizer \\\n",
        "    .texts_to_sequences(\n",
        "        test.title2_tokenized)\n",
        "\n",
        "\n",
        "x1_test = keras \\\n",
        "    .preprocessing \\\n",
        "    .sequence \\\n",
        "    .pad_sequences(\n",
        "        x1_test, \n",
        "        maxlen=MAX_SEQUENCE_LENGTH)\n",
        "x2_test = keras \\\n",
        "    .preprocessing \\\n",
        "    .sequence \\\n",
        "    .pad_sequences(\n",
        "        x2_test, \n",
        "        maxlen=MAX_SEQUENCE_LENGTH)    \n",
        "\n",
        "\n",
        "predictions = model.predict(\n",
        "    [x1_test, x2_test])"
      ],
      "execution_count": null,
      "outputs": []
    },
    {
      "cell_type": "code",
      "metadata": {
        "id": "TcxM_PZYmC4Z",
        "colab": {
          "base_uri": "https://localhost:8080/"
        },
        "outputId": "3e32eaf8-8123-4545-91d8-bf63f8db8f9f"
      },
      "source": [
        "predictions[:5]"
      ],
      "execution_count": null,
      "outputs": [
        {
          "output_type": "execute_result",
          "data": {
            "text/plain": [
              "array([[9.9510843e-01, 4.8915548e-03, 7.9956253e-10],\n",
              "       [9.4480532e-01, 5.4895937e-02, 2.9874462e-04],\n",
              "       [9.9997568e-01, 1.1213771e-08, 2.4293520e-05],\n",
              "       [9.4926155e-01, 5.0738495e-02, 1.6313189e-08],\n",
              "       [9.9999523e-01, 2.0870874e-07, 4.4978647e-06]], dtype=float32)"
            ]
          },
          "metadata": {
            "tags": []
          },
          "execution_count": 54
        }
      ]
    },
    {
      "cell_type": "code",
      "metadata": {
        "id": "MWiIBOZGmKDP",
        "colab": {
          "base_uri": "https://localhost:8080/",
          "height": 17
        },
        "outputId": "47a749c6-5b5b-4266-c074-3a1ded9c6fb1"
      },
      "source": [
        "index_to_label = {v: k for k, v in label_to_index.items()}\n",
        "\n",
        "test['Category'] = [index_to_label[idx] for idx in np.argmax(predictions, axis=1)]\n",
        "\n",
        "submission = test \\\n",
        "    .loc[:, ['Category']] \\\n",
        "    .reset_index()\n",
        "\n",
        "submission.columns = ['Id', 'Category']\n",
        "submission.to_csv('submission.csv', index=False)\n",
        "submission.head()\n",
        "from google.colab import files\n",
        "files.download('submission.csv')"
      ],
      "execution_count": null,
      "outputs": [
        {
          "output_type": "display_data",
          "data": {
            "application/javascript": [
              "\n",
              "    async function download(id, filename, size) {\n",
              "      if (!google.colab.kernel.accessAllowed) {\n",
              "        return;\n",
              "      }\n",
              "      const div = document.createElement('div');\n",
              "      const label = document.createElement('label');\n",
              "      label.textContent = `Downloading \"${filename}\": `;\n",
              "      div.appendChild(label);\n",
              "      const progress = document.createElement('progress');\n",
              "      progress.max = size;\n",
              "      div.appendChild(progress);\n",
              "      document.body.appendChild(div);\n",
              "\n",
              "      const buffers = [];\n",
              "      let downloaded = 0;\n",
              "\n",
              "      const channel = await google.colab.kernel.comms.open(id);\n",
              "      // Send a message to notify the kernel that we're ready.\n",
              "      channel.send({})\n",
              "\n",
              "      for await (const message of channel.messages) {\n",
              "        // Send a message to notify the kernel that we're ready.\n",
              "        channel.send({})\n",
              "        if (message.buffers) {\n",
              "          for (const buffer of message.buffers) {\n",
              "            buffers.push(buffer);\n",
              "            downloaded += buffer.byteLength;\n",
              "            progress.value = downloaded;\n",
              "          }\n",
              "        }\n",
              "      }\n",
              "      const blob = new Blob(buffers, {type: 'application/binary'});\n",
              "      const a = document.createElement('a');\n",
              "      a.href = window.URL.createObjectURL(blob);\n",
              "      a.download = filename;\n",
              "      div.appendChild(a);\n",
              "      a.click();\n",
              "      div.remove();\n",
              "    }\n",
              "  "
            ],
            "text/plain": [
              "<IPython.core.display.Javascript object>"
            ]
          },
          "metadata": {
            "tags": []
          }
        },
        {
          "output_type": "display_data",
          "data": {
            "application/javascript": [
              "download(\"download_3493a7c2-8886-4fd4-ab0d-e6f808bad688\", \"submission.csv\", 1032366)"
            ],
            "text/plain": [
              "<IPython.core.display.Javascript object>"
            ]
          },
          "metadata": {
            "tags": []
          }
        }
      ]
    },
    {
      "cell_type": "code",
      "metadata": {
        "id": "KxElkqrJmM_3"
      },
      "source": [
        ""
      ],
      "execution_count": null,
      "outputs": []
    }
  ]
}