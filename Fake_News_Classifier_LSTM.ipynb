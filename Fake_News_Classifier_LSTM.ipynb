{
  "nbformat": 4,
  "nbformat_minor": 0,
  "metadata": {
    "accelerator": "GPU",
    "colab": {
      "name": "Fake_News_Classifier LSTM.ipynb",
      "provenance": [],
      "collapsed_sections": []
    },
    "kernelspec": {
      "display_name": "Python 3",
      "language": "python",
      "name": "python3"
    },
    "language_info": {
      "codemirror_mode": {
        "name": "ipython",
        "version": 3
      },
      "file_extension": ".py",
      "mimetype": "text/x-python",
      "name": "python",
      "nbconvert_exporter": "python",
      "pygments_lexer": "ipython3",
      "version": "3.7.6"
    }
  },
  "cells": [
    {
      "cell_type": "code",
      "metadata": {
        "id": "IVD-uMDdLIUS"
      },
      "source": [
        "import numpy as np\n",
        "import pandas as pd\n",
        "import requests\n",
        "from io import StringIO\n",
        "from sklearn.feature_extraction.text import CountVectorizer, TfidfVectorizer, HashingVectorizer\n",
        "from sklearn.metrics import accuracy_score\n",
        "from sklearn.metrics import confusion_matrix\n",
        "from sklearn.metrics import precision_score\n",
        "from sklearn.metrics import recall_score\n",
        "import pandas as pd\n",
        "from sklearn.linear_model import PassiveAggressiveClassifier\n",
        "from sklearn.feature_extraction.text import TfidfVectorizer\n",
        "from sklearn.naive_bayes import GaussianNB\n",
        "from sklearn.tree import DecisionTreeClassifier\n",
        "from sklearn.model_selection import train_test_split\n",
        "from sklearn.ensemble import RandomForestClassifier\n",
        "from sklearn.svm import SVC\n",
        "from sklearn.linear_model import LogisticRegression\n",
        "from sklearn.metrics import accuracy_score\n",
        "from sklearn.metrics import confusion_matrix\n",
        "import matplotlib.pyplot as plt\n",
        "from mlxtend.plotting import plot_confusion_matrix\n",
        "from collections import Counter\n",
        "from nltk.tokenize import word_tokenize\n",
        "import warnings\n",
        "warnings.filterwarnings('ignore')\n",
        "from sklearn.preprocessing import LabelEncoder\n",
        "from imblearn.over_sampling import SMOTE\n",
        "from mlxtend.plotting import plot_confusion_matrix\n",
        "from sklearn.naive_bayes import MultinomialNB\n",
        "from sklearn import metrics\n",
        "from sklearn.linear_model import SGDClassifier\n",
        "from sklearn.metrics import classification_report\n",
        "import re\n",
        "import tensorflow as tf\n",
        "import seaborn as sns\n",
        "import nltk\n",
        "import re\n",
        "from nltk.corpus import stopwords\n",
        "nltk.corpus.util.LazyCorpusLoader\n",
        "\n",
        "from nltk.stem.porter import PorterStemmer\n",
        "from wordcloud import WordCloud,STOPWORDS\n",
        "from nltk.stem import WordNetLemmatizer\n",
        "from nltk.tokenize import word_tokenize,sent_tokenize"
      ],
      "execution_count": 1,
      "outputs": []
    },
    {
      "cell_type": "code",
      "metadata": {
        "colab": {
          "base_uri": "https://localhost:8080/"
        },
        "id": "5PldKTI7LM0H",
        "outputId": "ae9dfc2f-52bb-4fc2-cbe7-9b67179c472a"
      },
      "source": [
        "from google.colab import drive\n",
        "drive.mount('/content/gdrive')"
      ],
      "execution_count": 2,
      "outputs": [
        {
          "output_type": "stream",
          "text": [
            "Mounted at /content/gdrive\n"
          ],
          "name": "stdout"
        }
      ]
    },
    {
      "cell_type": "code",
      "metadata": {
        "colab": {
          "base_uri": "https://localhost:8080/"
        },
        "id": "73tMWBN_LIUY",
        "outputId": "d8d8c3ee-b2f6-4293-d8b1-241ac91c0fb2"
      },
      "source": [
        "train = pd.read_csv(\"/content/gdrive/My Drive/FakeNewsDataSet/train.csv\")\n",
        "test = pd.read_csv(\"/content/gdrive/My Drive/FakeNewsDataSet/test.csv\")\n",
        "train.shape"
      ],
      "execution_count": 3,
      "outputs": [
        {
          "output_type": "execute_result",
          "data": {
            "text/plain": [
              "(256442, 6)"
            ]
          },
          "metadata": {
            "tags": []
          },
          "execution_count": 3
        }
      ]
    },
    {
      "cell_type": "code",
      "metadata": {
        "id": "ASb0V1tRLIUb",
        "colab": {
          "base_uri": "https://localhost:8080/",
          "height": 204
        },
        "outputId": "1fd8160a-9f9d-4972-b5e8-63b98d875954"
      },
      "source": [
        "train.head()\n"
      ],
      "execution_count": 4,
      "outputs": [
        {
          "output_type": "execute_result",
          "data": {
            "text/html": [
              "<div>\n",
              "<style scoped>\n",
              "    .dataframe tbody tr th:only-of-type {\n",
              "        vertical-align: middle;\n",
              "    }\n",
              "\n",
              "    .dataframe tbody tr th {\n",
              "        vertical-align: top;\n",
              "    }\n",
              "\n",
              "    .dataframe thead th {\n",
              "        text-align: right;\n",
              "    }\n",
              "</style>\n",
              "<table border=\"1\" class=\"dataframe\">\n",
              "  <thead>\n",
              "    <tr style=\"text-align: right;\">\n",
              "      <th></th>\n",
              "      <th>id</th>\n",
              "      <th>tid1</th>\n",
              "      <th>tid2</th>\n",
              "      <th>title1_en</th>\n",
              "      <th>title2_en</th>\n",
              "      <th>label</th>\n",
              "    </tr>\n",
              "  </thead>\n",
              "  <tbody>\n",
              "    <tr>\n",
              "      <th>0</th>\n",
              "      <td>195611</td>\n",
              "      <td>0</td>\n",
              "      <td>1</td>\n",
              "      <td>There are two new old-age insurance benefits f...</td>\n",
              "      <td>Police disprove \"bird's nest congress each per...</td>\n",
              "      <td>unrelated</td>\n",
              "    </tr>\n",
              "    <tr>\n",
              "      <th>1</th>\n",
              "      <td>191474</td>\n",
              "      <td>2</td>\n",
              "      <td>3</td>\n",
              "      <td>\"If you do not come to Shenzhen, sooner or lat...</td>\n",
              "      <td>Shenzhen's GDP outstrips Hong Kong? Shenzhen S...</td>\n",
              "      <td>unrelated</td>\n",
              "    </tr>\n",
              "    <tr>\n",
              "      <th>2</th>\n",
              "      <td>25300</td>\n",
              "      <td>2</td>\n",
              "      <td>4</td>\n",
              "      <td>\"If you do not come to Shenzhen, sooner or lat...</td>\n",
              "      <td>The GDP overtopped Hong Kong? Shenzhen clarifi...</td>\n",
              "      <td>unrelated</td>\n",
              "    </tr>\n",
              "    <tr>\n",
              "      <th>3</th>\n",
              "      <td>123757</td>\n",
              "      <td>2</td>\n",
              "      <td>8</td>\n",
              "      <td>\"If you do not come to Shenzhen, sooner or lat...</td>\n",
              "      <td>Shenzhen's GDP overtakes Hong Kong? Bureau of ...</td>\n",
              "      <td>unrelated</td>\n",
              "    </tr>\n",
              "    <tr>\n",
              "      <th>4</th>\n",
              "      <td>141761</td>\n",
              "      <td>2</td>\n",
              "      <td>11</td>\n",
              "      <td>\"If you do not come to Shenzhen, sooner or lat...</td>\n",
              "      <td>Shenzhen's GDP outpaces Hong Kong? Defending R...</td>\n",
              "      <td>unrelated</td>\n",
              "    </tr>\n",
              "  </tbody>\n",
              "</table>\n",
              "</div>"
            ],
            "text/plain": [
              "       id  tid1  ...                                          title2_en      label\n",
              "0  195611     0  ...  Police disprove \"bird's nest congress each per...  unrelated\n",
              "1  191474     2  ...  Shenzhen's GDP outstrips Hong Kong? Shenzhen S...  unrelated\n",
              "2   25300     2  ...  The GDP overtopped Hong Kong? Shenzhen clarifi...  unrelated\n",
              "3  123757     2  ...  Shenzhen's GDP overtakes Hong Kong? Bureau of ...  unrelated\n",
              "4  141761     2  ...  Shenzhen's GDP outpaces Hong Kong? Defending R...  unrelated\n",
              "\n",
              "[5 rows x 6 columns]"
            ]
          },
          "metadata": {
            "tags": []
          },
          "execution_count": 4
        }
      ]
    },
    {
      "cell_type": "code",
      "metadata": {
        "id": "jdtYbWPbLIUe",
        "colab": {
          "base_uri": "https://localhost:8080/"
        },
        "outputId": "9107c587-1908-4277-b4c8-8e42b2833ad4"
      },
      "source": [
        "train.info()"
      ],
      "execution_count": 5,
      "outputs": [
        {
          "output_type": "stream",
          "text": [
            "<class 'pandas.core.frame.DataFrame'>\n",
            "RangeIndex: 256442 entries, 0 to 256441\n",
            "Data columns (total 6 columns):\n",
            " #   Column     Non-Null Count   Dtype \n",
            "---  ------     --------------   ----- \n",
            " 0   id         256442 non-null  int64 \n",
            " 1   tid1       256442 non-null  int64 \n",
            " 2   tid2       256442 non-null  int64 \n",
            " 3   title1_en  256442 non-null  object\n",
            " 4   title2_en  256442 non-null  object\n",
            " 5   label      256442 non-null  object\n",
            "dtypes: int64(3), object(3)\n",
            "memory usage: 11.7+ MB\n"
          ],
          "name": "stdout"
        }
      ]
    },
    {
      "cell_type": "markdown",
      "metadata": {
        "id": "dHIJEnnxLIYd"
      },
      "source": [
        "## LSTM2"
      ]
    },
    {
      "cell_type": "code",
      "metadata": {
        "id": "xmzZ5ZcJLIYd"
      },
      "source": [
        "#train=pd.read_csv(\"/content/gdrive/My Drive/FakeNewsDataSet/train.csv\")\n",
        "cols = ['title1_en', \n",
        "        'title2_en', \n",
        "        'label']"
      ],
      "execution_count": 6,
      "outputs": []
    },
    {
      "cell_type": "code",
      "metadata": {
        "colab": {
          "base_uri": "https://localhost:8080/",
          "height": 142
        },
        "id": "5-KEGlYMLIYe",
        "outputId": "9bfd1536-b94d-472a-876b-02a1390785fe"
      },
      "source": [
        "train = train.loc[:, cols]\n",
        "train.head(3)"
      ],
      "execution_count": 7,
      "outputs": [
        {
          "output_type": "execute_result",
          "data": {
            "text/html": [
              "<div>\n",
              "<style scoped>\n",
              "    .dataframe tbody tr th:only-of-type {\n",
              "        vertical-align: middle;\n",
              "    }\n",
              "\n",
              "    .dataframe tbody tr th {\n",
              "        vertical-align: top;\n",
              "    }\n",
              "\n",
              "    .dataframe thead th {\n",
              "        text-align: right;\n",
              "    }\n",
              "</style>\n",
              "<table border=\"1\" class=\"dataframe\">\n",
              "  <thead>\n",
              "    <tr style=\"text-align: right;\">\n",
              "      <th></th>\n",
              "      <th>title1_en</th>\n",
              "      <th>title2_en</th>\n",
              "      <th>label</th>\n",
              "    </tr>\n",
              "  </thead>\n",
              "  <tbody>\n",
              "    <tr>\n",
              "      <th>0</th>\n",
              "      <td>There are two new old-age insurance benefits f...</td>\n",
              "      <td>Police disprove \"bird's nest congress each per...</td>\n",
              "      <td>unrelated</td>\n",
              "    </tr>\n",
              "    <tr>\n",
              "      <th>1</th>\n",
              "      <td>\"If you do not come to Shenzhen, sooner or lat...</td>\n",
              "      <td>Shenzhen's GDP outstrips Hong Kong? Shenzhen S...</td>\n",
              "      <td>unrelated</td>\n",
              "    </tr>\n",
              "    <tr>\n",
              "      <th>2</th>\n",
              "      <td>\"If you do not come to Shenzhen, sooner or lat...</td>\n",
              "      <td>The GDP overtopped Hong Kong? Shenzhen clarifi...</td>\n",
              "      <td>unrelated</td>\n",
              "    </tr>\n",
              "  </tbody>\n",
              "</table>\n",
              "</div>"
            ],
            "text/plain": [
              "                                           title1_en  ...      label\n",
              "0  There are two new old-age insurance benefits f...  ...  unrelated\n",
              "1  \"If you do not come to Shenzhen, sooner or lat...  ...  unrelated\n",
              "2  \"If you do not come to Shenzhen, sooner or lat...  ...  unrelated\n",
              "\n",
              "[3 rows x 3 columns]"
            ]
          },
          "metadata": {
            "tags": []
          },
          "execution_count": 7
        }
      ]
    },
    {
      "cell_type": "code",
      "metadata": {
        "colab": {
          "base_uri": "https://localhost:8080/"
        },
        "id": "mQJw0uw8LIYj",
        "outputId": "03ac947d-14ae-4536-d03e-75c8a4686755"
      },
      "source": [
        "train.title2_en.fillna('UNKNOWN', inplace=True)\n",
        "train.isna().any()"
      ],
      "execution_count": 8,
      "outputs": [
        {
          "output_type": "execute_result",
          "data": {
            "text/plain": [
              "title1_en    False\n",
              "title2_en    False\n",
              "label        False\n",
              "dtype: bool"
            ]
          },
          "metadata": {
            "tags": []
          },
          "execution_count": 8
        }
      ]
    },
    {
      "cell_type": "code",
      "metadata": {
        "colab": {
          "base_uri": "https://localhost:8080/"
        },
        "id": "UkDMqGO-LIYk",
        "outputId": "aad74ce2-93ee-462d-80eb-8fa958981d83"
      },
      "source": [
        "np.all(train.index == train.title1_en.index)\n"
      ],
      "execution_count": 9,
      "outputs": [
        {
          "output_type": "execute_result",
          "data": {
            "text/plain": [
              "True"
            ]
          },
          "metadata": {
            "tags": []
          },
          "execution_count": 9
        }
      ]
    },
    {
      "cell_type": "code",
      "metadata": {
        "colab": {
          "base_uri": "https://localhost:8080/",
          "height": 359
        },
        "id": "6nU09HfuLIYn",
        "outputId": "757f5439-7f97-4a39-d019-1b43f76bb6e1"
      },
      "source": [
        "train.loc[:, [\"title1_en\"]].head(10)\n"
      ],
      "execution_count": 10,
      "outputs": [
        {
          "output_type": "execute_result",
          "data": {
            "text/html": [
              "<div>\n",
              "<style scoped>\n",
              "    .dataframe tbody tr th:only-of-type {\n",
              "        vertical-align: middle;\n",
              "    }\n",
              "\n",
              "    .dataframe tbody tr th {\n",
              "        vertical-align: top;\n",
              "    }\n",
              "\n",
              "    .dataframe thead th {\n",
              "        text-align: right;\n",
              "    }\n",
              "</style>\n",
              "<table border=\"1\" class=\"dataframe\">\n",
              "  <thead>\n",
              "    <tr style=\"text-align: right;\">\n",
              "      <th></th>\n",
              "      <th>title1_en</th>\n",
              "    </tr>\n",
              "  </thead>\n",
              "  <tbody>\n",
              "    <tr>\n",
              "      <th>0</th>\n",
              "      <td>There are two new old-age insurance benefits f...</td>\n",
              "    </tr>\n",
              "    <tr>\n",
              "      <th>1</th>\n",
              "      <td>\"If you do not come to Shenzhen, sooner or lat...</td>\n",
              "    </tr>\n",
              "    <tr>\n",
              "      <th>2</th>\n",
              "      <td>\"If you do not come to Shenzhen, sooner or lat...</td>\n",
              "    </tr>\n",
              "    <tr>\n",
              "      <th>3</th>\n",
              "      <td>\"If you do not come to Shenzhen, sooner or lat...</td>\n",
              "    </tr>\n",
              "    <tr>\n",
              "      <th>4</th>\n",
              "      <td>\"If you do not come to Shenzhen, sooner or lat...</td>\n",
              "    </tr>\n",
              "    <tr>\n",
              "      <th>5</th>\n",
              "      <td>\"How to discriminate oil from gutter oil by me...</td>\n",
              "    </tr>\n",
              "    <tr>\n",
              "      <th>6</th>\n",
              "      <td>\"How to discriminate oil from gutter oil by me...</td>\n",
              "    </tr>\n",
              "    <tr>\n",
              "      <th>7</th>\n",
              "      <td>\"How to discriminate oil from gutter oil by me...</td>\n",
              "    </tr>\n",
              "    <tr>\n",
              "      <th>8</th>\n",
              "      <td>It took 30 years of cooking oil to know that o...</td>\n",
              "    </tr>\n",
              "    <tr>\n",
              "      <th>9</th>\n",
              "      <td>It took 30 years of cooking oil to know that o...</td>\n",
              "    </tr>\n",
              "  </tbody>\n",
              "</table>\n",
              "</div>"
            ],
            "text/plain": [
              "                                           title1_en\n",
              "0  There are two new old-age insurance benefits f...\n",
              "1  \"If you do not come to Shenzhen, sooner or lat...\n",
              "2  \"If you do not come to Shenzhen, sooner or lat...\n",
              "3  \"If you do not come to Shenzhen, sooner or lat...\n",
              "4  \"If you do not come to Shenzhen, sooner or lat...\n",
              "5  \"How to discriminate oil from gutter oil by me...\n",
              "6  \"How to discriminate oil from gutter oil by me...\n",
              "7  \"How to discriminate oil from gutter oil by me...\n",
              "8  It took 30 years of cooking oil to know that o...\n",
              "9  It took 30 years of cooking oil to know that o..."
            ]
          },
          "metadata": {
            "tags": []
          },
          "execution_count": 10
        }
      ]
    },
    {
      "cell_type": "code",
      "metadata": {
        "colab": {
          "base_uri": "https://localhost:8080/",
          "height": 359
        },
        "id": "rjghDMGWLIYo",
        "outputId": "bf747529-f791-4ea5-d9ca-0acb57e7dafb"
      },
      "source": [
        "train.loc[:, [\"title2_en\"]].head(10)\n"
      ],
      "execution_count": 11,
      "outputs": [
        {
          "output_type": "execute_result",
          "data": {
            "text/html": [
              "<div>\n",
              "<style scoped>\n",
              "    .dataframe tbody tr th:only-of-type {\n",
              "        vertical-align: middle;\n",
              "    }\n",
              "\n",
              "    .dataframe tbody tr th {\n",
              "        vertical-align: top;\n",
              "    }\n",
              "\n",
              "    .dataframe thead th {\n",
              "        text-align: right;\n",
              "    }\n",
              "</style>\n",
              "<table border=\"1\" class=\"dataframe\">\n",
              "  <thead>\n",
              "    <tr style=\"text-align: right;\">\n",
              "      <th></th>\n",
              "      <th>title2_en</th>\n",
              "    </tr>\n",
              "  </thead>\n",
              "  <tbody>\n",
              "    <tr>\n",
              "      <th>0</th>\n",
              "      <td>Police disprove \"bird's nest congress each per...</td>\n",
              "    </tr>\n",
              "    <tr>\n",
              "      <th>1</th>\n",
              "      <td>Shenzhen's GDP outstrips Hong Kong? Shenzhen S...</td>\n",
              "    </tr>\n",
              "    <tr>\n",
              "      <th>2</th>\n",
              "      <td>The GDP overtopped Hong Kong? Shenzhen clarifi...</td>\n",
              "    </tr>\n",
              "    <tr>\n",
              "      <th>3</th>\n",
              "      <td>Shenzhen's GDP overtakes Hong Kong? Bureau of ...</td>\n",
              "    </tr>\n",
              "    <tr>\n",
              "      <th>4</th>\n",
              "      <td>Shenzhen's GDP outpaces Hong Kong? Defending R...</td>\n",
              "    </tr>\n",
              "    <tr>\n",
              "      <th>5</th>\n",
              "      <td>It's very practical to use a single piece of g...</td>\n",
              "    </tr>\n",
              "    <tr>\n",
              "      <th>6</th>\n",
              "      <td>Differential gutter oil can be identified with...</td>\n",
              "    </tr>\n",
              "    <tr>\n",
              "      <th>7</th>\n",
              "      <td>stir-fried garlic to identify gutter oil</td>\n",
              "    </tr>\n",
              "    <tr>\n",
              "      <th>8</th>\n",
              "      <td>A single piece of garlic can spot gutter oil? ...</td>\n",
              "    </tr>\n",
              "    <tr>\n",
              "      <th>9</th>\n",
              "      <td>Use a garlic to distinguish oil from oil, very...</td>\n",
              "    </tr>\n",
              "  </tbody>\n",
              "</table>\n",
              "</div>"
            ],
            "text/plain": [
              "                                           title2_en\n",
              "0  Police disprove \"bird's nest congress each per...\n",
              "1  Shenzhen's GDP outstrips Hong Kong? Shenzhen S...\n",
              "2  The GDP overtopped Hong Kong? Shenzhen clarifi...\n",
              "3  Shenzhen's GDP overtakes Hong Kong? Bureau of ...\n",
              "4  Shenzhen's GDP outpaces Hong Kong? Defending R...\n",
              "5  It's very practical to use a single piece of g...\n",
              "6  Differential gutter oil can be identified with...\n",
              "7           stir-fried garlic to identify gutter oil\n",
              "8  A single piece of garlic can spot gutter oil? ...\n",
              "9  Use a garlic to distinguish oil from oil, very..."
            ]
          },
          "metadata": {
            "tags": []
          },
          "execution_count": 11
        }
      ]
    },
    {
      "cell_type": "code",
      "metadata": {
        "id": "P8k2_kjULIYp"
      },
      "source": [
        "train.fillna('UNKNOWN', inplace=True)"
      ],
      "execution_count": 12,
      "outputs": []
    },
    {
      "cell_type": "code",
      "metadata": {
        "id": "EsesjdISjv8I"
      },
      "source": [
        "import keras"
      ],
      "execution_count": 13,
      "outputs": []
    },
    {
      "cell_type": "code",
      "metadata": {
        "id": "xf1CjxrIjriw"
      },
      "source": [
        "MAX_NUM_WORDS = 10000\n",
        "tokenizer = keras \\\n",
        "    .preprocessing \\\n",
        "    .text \\\n",
        "    .Tokenizer(num_words=MAX_NUM_WORDS)"
      ],
      "execution_count": 14,
      "outputs": []
    },
    {
      "cell_type": "code",
      "metadata": {
        "colab": {
          "base_uri": "https://localhost:8080/"
        },
        "id": "WFqSgABcjt3X",
        "outputId": "ceb581b7-2cce-4fbb-c3fc-465219abb8ca"
      },
      "source": [
        "corpus_x1 = train.title1_en\n",
        "corpus_x2 = train.title2_en\n",
        "corpus = pd.concat([\n",
        "    corpus_x1, corpus_x2])\n",
        "corpus.shape"
      ],
      "execution_count": 15,
      "outputs": [
        {
          "output_type": "execute_result",
          "data": {
            "text/plain": [
              "(512884,)"
            ]
          },
          "metadata": {
            "tags": []
          },
          "execution_count": 15
        }
      ]
    },
    {
      "cell_type": "code",
      "metadata": {
        "colab": {
          "base_uri": "https://localhost:8080/",
          "height": 204
        },
        "id": "3n_51TnPjz44",
        "outputId": "ff011879-e497-47df-f9df-781d42ccf54b"
      },
      "source": [
        "pd.DataFrame(corpus.iloc[:5],\n",
        "             columns=['title'])"
      ],
      "execution_count": 16,
      "outputs": [
        {
          "output_type": "execute_result",
          "data": {
            "text/html": [
              "<div>\n",
              "<style scoped>\n",
              "    .dataframe tbody tr th:only-of-type {\n",
              "        vertical-align: middle;\n",
              "    }\n",
              "\n",
              "    .dataframe tbody tr th {\n",
              "        vertical-align: top;\n",
              "    }\n",
              "\n",
              "    .dataframe thead th {\n",
              "        text-align: right;\n",
              "    }\n",
              "</style>\n",
              "<table border=\"1\" class=\"dataframe\">\n",
              "  <thead>\n",
              "    <tr style=\"text-align: right;\">\n",
              "      <th></th>\n",
              "      <th>title</th>\n",
              "    </tr>\n",
              "  </thead>\n",
              "  <tbody>\n",
              "    <tr>\n",
              "      <th>0</th>\n",
              "      <td>There are two new old-age insurance benefits f...</td>\n",
              "    </tr>\n",
              "    <tr>\n",
              "      <th>1</th>\n",
              "      <td>\"If you do not come to Shenzhen, sooner or lat...</td>\n",
              "    </tr>\n",
              "    <tr>\n",
              "      <th>2</th>\n",
              "      <td>\"If you do not come to Shenzhen, sooner or lat...</td>\n",
              "    </tr>\n",
              "    <tr>\n",
              "      <th>3</th>\n",
              "      <td>\"If you do not come to Shenzhen, sooner or lat...</td>\n",
              "    </tr>\n",
              "    <tr>\n",
              "      <th>4</th>\n",
              "      <td>\"If you do not come to Shenzhen, sooner or lat...</td>\n",
              "    </tr>\n",
              "  </tbody>\n",
              "</table>\n",
              "</div>"
            ],
            "text/plain": [
              "                                               title\n",
              "0  There are two new old-age insurance benefits f...\n",
              "1  \"If you do not come to Shenzhen, sooner or lat...\n",
              "2  \"If you do not come to Shenzhen, sooner or lat...\n",
              "3  \"If you do not come to Shenzhen, sooner or lat...\n",
              "4  \"If you do not come to Shenzhen, sooner or lat..."
            ]
          },
          "metadata": {
            "tags": []
          },
          "execution_count": 16
        }
      ]
    },
    {
      "cell_type": "code",
      "metadata": {
        "colab": {
          "base_uri": "https://localhost:8080/"
        },
        "id": "U_E4D6fQZJjp",
        "outputId": "509baf32-f01f-4817-8829-601691443afc"
      },
      "source": [
        "corpus.head()"
      ],
      "execution_count": 17,
      "outputs": [
        {
          "output_type": "execute_result",
          "data": {
            "text/plain": [
              "0    There are two new old-age insurance benefits f...\n",
              "1    \"If you do not come to Shenzhen, sooner or lat...\n",
              "2    \"If you do not come to Shenzhen, sooner or lat...\n",
              "3    \"If you do not come to Shenzhen, sooner or lat...\n",
              "4    \"If you do not come to Shenzhen, sooner or lat...\n",
              "dtype: object"
            ]
          },
          "metadata": {
            "tags": []
          },
          "execution_count": 17
        }
      ]
    },
    {
      "cell_type": "code",
      "metadata": {
        "colab": {
          "base_uri": "https://localhost:8080/"
        },
        "id": "KdZ5MMrVj2fn",
        "outputId": "d13a5989-ad25-43aa-ca70-d6d9dad97600"
      },
      "source": [
        "corpus.isna().any()"
      ],
      "execution_count": 18,
      "outputs": [
        {
          "output_type": "execute_result",
          "data": {
            "text/plain": [
              "False"
            ]
          },
          "metadata": {
            "tags": []
          },
          "execution_count": 18
        }
      ]
    },
    {
      "cell_type": "code",
      "metadata": {
        "id": "5r0rtwkKj4tP"
      },
      "source": [
        "tokenizer.fit_on_texts(corpus)\n",
        "x1_train = tokenizer \\\n",
        "    .texts_to_sequences(corpus_x1)\n",
        "x2_train = tokenizer \\\n",
        "    .texts_to_sequences(corpus_x2)"
      ],
      "execution_count": 19,
      "outputs": []
    },
    {
      "cell_type": "code",
      "metadata": {
        "colab": {
          "base_uri": "https://localhost:8080/"
        },
        "id": "jjJsm089j63P",
        "outputId": "11326ea4-c011-4133-e242-9d23ef494300"
      },
      "source": [
        "len(x1_train)\n"
      ],
      "execution_count": 20,
      "outputs": [
        {
          "output_type": "execute_result",
          "data": {
            "text/plain": [
              "256442"
            ]
          },
          "metadata": {
            "tags": []
          },
          "execution_count": 20
        }
      ]
    },
    {
      "cell_type": "code",
      "metadata": {
        "colab": {
          "base_uri": "https://localhost:8080/"
        },
        "id": "7xRQdPJ2j9OP",
        "outputId": "6e7f8ec0-f0b6-4cab-da30-dabcc448a26a"
      },
      "source": [
        "x1_train[:1]"
      ],
      "execution_count": 21,
      "outputs": [
        {
          "output_type": "execute_result",
          "data": {
            "text/plain": [
              "[[92, 17, 59, 29, 24, 260, 565, 798, 12, 24, 32, 7, 88, 450, 21, 8, 434, 185]]"
            ]
          },
          "metadata": {
            "tags": []
          },
          "execution_count": 21
        }
      ]
    },
    {
      "cell_type": "code",
      "metadata": {
        "colab": {
          "base_uri": "https://localhost:8080/"
        },
        "id": "yNjAYrN3kAb3",
        "outputId": "4da631b0-8168-42d5-d20f-12d90a757ed3"
      },
      "source": [
        "for seq in x1_train[:1]:\n",
        "    print([tokenizer.index_word[idx] for idx in seq])"
      ],
      "execution_count": 22,
      "outputs": [
        {
          "output_type": "stream",
          "text": [
            "['there', 'are', 'two', 'new', 'old', 'age', 'insurance', 'benefits', 'for', 'old', 'people', 'in', 'rural', 'areas', 'have', 'you', 'got', 'them']\n"
          ],
          "name": "stdout"
        }
      ]
    },
    {
      "cell_type": "code",
      "metadata": {
        "id": "VvXPvNYqkCYo"
      },
      "source": [
        "MAX_SEQUENCE_LENGTH = 20\n",
        "x1_train = keras \\\n",
        "    .preprocessing \\\n",
        "    .sequence \\\n",
        "    .pad_sequences(x1_train, \n",
        "                   maxlen=MAX_SEQUENCE_LENGTH)\n",
        "\n",
        "x2_train = keras \\\n",
        "    .preprocessing \\\n",
        "    .sequence \\\n",
        "    .pad_sequences(x2_train, \n",
        "                   maxlen=MAX_SEQUENCE_LENGTH)"
      ],
      "execution_count": 23,
      "outputs": []
    },
    {
      "cell_type": "code",
      "metadata": {
        "colab": {
          "base_uri": "https://localhost:8080/"
        },
        "id": "YXBESJN9kFsX",
        "outputId": "6b84ae0e-c10a-47cd-fdaf-70bab47f0f68"
      },
      "source": [
        "x1_train[0]"
      ],
      "execution_count": 24,
      "outputs": [
        {
          "output_type": "execute_result",
          "data": {
            "text/plain": [
              "array([  0,   0,  92,  17,  59,  29,  24, 260, 565, 798,  12,  24,  32,\n",
              "         7,  88, 450,  21,   8, 434, 185], dtype=int32)"
            ]
          },
          "metadata": {
            "tags": []
          },
          "execution_count": 24
        }
      ]
    },
    {
      "cell_type": "code",
      "metadata": {
        "id": "vElcVO4qkICf"
      },
      "source": [
        "for seq in x1_train + x2_train:\n",
        "    assert len(seq) == 20\n",
        "    "
      ],
      "execution_count": 25,
      "outputs": []
    },
    {
      "cell_type": "code",
      "metadata": {
        "colab": {
          "base_uri": "https://localhost:8080/"
        },
        "id": "DhOS_52AkKWX",
        "outputId": "d8cdb97b-81f7-43ec-901f-4e42ae59f1db"
      },
      "source": [
        "train.label[:5]"
      ],
      "execution_count": 26,
      "outputs": [
        {
          "output_type": "execute_result",
          "data": {
            "text/plain": [
              "0    unrelated\n",
              "1    unrelated\n",
              "2    unrelated\n",
              "3    unrelated\n",
              "4    unrelated\n",
              "Name: label, dtype: object"
            ]
          },
          "metadata": {
            "tags": []
          },
          "execution_count": 26
        }
      ]
    },
    {
      "cell_type": "code",
      "metadata": {
        "colab": {
          "base_uri": "https://localhost:8080/"
        },
        "id": "U5wt_teOkPRR",
        "outputId": "97d3c1f7-2a51-4adc-ad7e-496b83885c10"
      },
      "source": [
        "import numpy as np \n",
        "\n",
        "label_to_index = {\n",
        "    'unrelated': 0, \n",
        "    'agreed': 1, \n",
        "    'disagreed': 2\n",
        "}\n",
        "\n",
        "y_train = train.label.apply(\n",
        "    lambda x: label_to_index[x])\n",
        "\n",
        "y_train = np.asarray(y_train) \\\n",
        "            .astype('float32')\n",
        "\n",
        "y_train[:5]"
      ],
      "execution_count": 27,
      "outputs": [
        {
          "output_type": "execute_result",
          "data": {
            "text/plain": [
              "array([0., 0., 0., 0., 0.], dtype=float32)"
            ]
          },
          "metadata": {
            "tags": []
          },
          "execution_count": 27
        }
      ]
    },
    {
      "cell_type": "code",
      "metadata": {
        "id": "3jb2oyuTkSvH"
      },
      "source": [
        "NUM_CLASSES = 3\n",
        "MAX_NUM_WORDS = 10000\n",
        "MAX_SEQUENCE_LENGTH = 20\n",
        "NUM_EMBEDDING_DIM = 256\n",
        "NUM_LSTM_UNITS = 128"
      ],
      "execution_count": 28,
      "outputs": []
    },
    {
      "cell_type": "code",
      "metadata": {
        "colab": {
          "base_uri": "https://localhost:8080/"
        },
        "id": "HcMkZX8lkXTW",
        "outputId": "6d64d817-52a0-4b88-e404-0354669da49e"
      },
      "source": [
        "x1_train[:5]"
      ],
      "execution_count": 29,
      "outputs": [
        {
          "output_type": "execute_result",
          "data": {
            "text/plain": [
              "array([[   0,    0,   92,   17,   59,   29,   24,  260,  565,  798,   12,\n",
              "          24,   32,    7,   88,  450,   21,    8,  434,  185],\n",
              "       [ 147,  844,   39,  218,   14,   90,  206,    7,  394,   75,   80,\n",
              "          35,  799,  591, 5383, 2790,   14, 5203,  535,  660],\n",
              "       [ 147,  844,   39,  218,   14,   90,  206,    7,  394,   75,   80,\n",
              "          35,  799,  591, 5383, 2790,   14, 5203,  535,  660],\n",
              "       [ 147,  844,   39,  218,   14,   90,  206,    7,  394,   75,   80,\n",
              "          35,  799,  591, 5383, 2790,   14, 5203,  535,  660],\n",
              "       [ 147,  844,   39,  218,   14,   90,  206,    7,  394,   75,   80,\n",
              "          35,  799,  591, 5383, 2790,   14, 5203,  535,  660]],\n",
              "      dtype=int32)"
            ]
          },
          "metadata": {
            "tags": []
          },
          "execution_count": 29
        }
      ]
    },
    {
      "cell_type": "code",
      "metadata": {
        "colab": {
          "base_uri": "https://localhost:8080/"
        },
        "id": "k9USX5_3kZlW",
        "outputId": "a8633f56-fddc-4859-d177-35a406ef217e"
      },
      "source": [
        "train.label[:5]"
      ],
      "execution_count": 30,
      "outputs": [
        {
          "output_type": "execute_result",
          "data": {
            "text/plain": [
              "0    unrelated\n",
              "1    unrelated\n",
              "2    unrelated\n",
              "3    unrelated\n",
              "4    unrelated\n",
              "Name: label, dtype: object"
            ]
          },
          "metadata": {
            "tags": []
          },
          "execution_count": 30
        }
      ]
    },
    {
      "cell_type": "code",
      "metadata": {
        "colab": {
          "base_uri": "https://localhost:8080/"
        },
        "id": "syTwewm4kb6O",
        "outputId": "4ad86613-c089-4cc0-93ee-bd6e8c29b00b"
      },
      "source": [
        "y_train = keras \\\n",
        "    .utils \\\n",
        "    .to_categorical(y_train)\n",
        "\n",
        "y_train[:5]"
      ],
      "execution_count": 31,
      "outputs": [
        {
          "output_type": "execute_result",
          "data": {
            "text/plain": [
              "array([[1., 0., 0.],\n",
              "       [1., 0., 0.],\n",
              "       [1., 0., 0.],\n",
              "       [1., 0., 0.],\n",
              "       [1., 0., 0.]], dtype=float32)"
            ]
          },
          "metadata": {
            "tags": []
          },
          "execution_count": 31
        }
      ]
    },
    {
      "cell_type": "code",
      "metadata": {
        "id": "9XCH6IaakeZO"
      },
      "source": [
        "from sklearn.model_selection \\\n",
        "    import train_test_split\n",
        "\n",
        "VALIDATION_RATIO = 0.20\n",
        "\n",
        "RANDOM_STATE = 9527\n",
        "\n",
        "x1_train, x1_val, \\\n",
        "x2_train, x2_val, \\\n",
        "y_train, y_val = \\\n",
        "    train_test_split(\n",
        "        x1_train, x2_train, y_train, \n",
        "        test_size=VALIDATION_RATIO, \n",
        "        random_state=RANDOM_STATE\n",
        ")"
      ],
      "execution_count": 32,
      "outputs": []
    },
    {
      "cell_type": "code",
      "metadata": {
        "colab": {
          "base_uri": "https://localhost:8080/"
        },
        "id": "_RAU4uNbkjOC",
        "outputId": "2d8616b7-215b-472b-e6b5-3101119b8097"
      },
      "source": [
        "print(\"Training Set\")\n",
        "print(\"-\" * 10)\n",
        "print(f\"x1_train: {x1_train.shape}\")\n",
        "print(f\"x2_train: {x2_train.shape}\")\n",
        "print(f\"y_train : {y_train.shape}\")\n",
        "\n",
        "print(\"-\" * 10)\n",
        "print(f\"x1_val:   {x1_val.shape}\")\n",
        "print(f\"x2_val:   {x2_val.shape}\")\n",
        "print(f\"y_val :   {y_val.shape}\")\n",
        "print(\"-\" * 10)\n",
        "print(\"Test Set\")"
      ],
      "execution_count": 33,
      "outputs": [
        {
          "output_type": "stream",
          "text": [
            "Training Set\n",
            "----------\n",
            "x1_train: (205153, 20)\n",
            "x2_train: (205153, 20)\n",
            "y_train : (205153, 3)\n",
            "----------\n",
            "x1_val:   (51289, 20)\n",
            "x2_val:   (51289, 20)\n",
            "y_val :   (51289, 3)\n",
            "----------\n",
            "Test Set\n"
          ],
          "name": "stdout"
        }
      ]
    },
    {
      "cell_type": "code",
      "metadata": {
        "colab": {
          "base_uri": "https://localhost:8080/"
        },
        "id": "R1Q-laYHklmf",
        "outputId": "0a83ae8c-0401-47c0-cece-e7f9a082cec0"
      },
      "source": [
        "from keras import Input\n",
        "from keras.layers import Embedding,LSTM, concatenate, Dense\n",
        "from keras.models import Model\n",
        "\n",
        "top_input = Input(\n",
        "    shape=(MAX_SEQUENCE_LENGTH, ), \n",
        "    dtype='int32')\n",
        "bm_input = Input(\n",
        "    shape=(MAX_SEQUENCE_LENGTH, ), \n",
        "    dtype='int32')\n",
        "\n",
        "embedding_layer = Embedding(\n",
        "    MAX_NUM_WORDS, NUM_EMBEDDING_DIM)\n",
        "top_embedded = embedding_layer(\n",
        "    top_input)\n",
        "bm_embedded = embedding_layer(\n",
        "    bm_input)\n",
        "\n",
        "shared_lstm = LSTM(NUM_LSTM_UNITS)\n",
        "top_output = shared_lstm(top_embedded)\n",
        "bm_output = shared_lstm(bm_embedded)\n",
        "\n",
        "merged = concatenate(\n",
        "    [top_output, bm_output], \n",
        "    axis=-1)\n",
        "\n",
        "\n",
        "dense =  Dense(\n",
        "    units=NUM_CLASSES, \n",
        "    activation='softmax')\n",
        "predictions = dense(merged)\n",
        "\n",
        "model = Model(\n",
        "    inputs=[top_input, bm_input], \n",
        "    outputs=predictions)\n",
        "\n",
        "model.summary()"
      ],
      "execution_count": 34,
      "outputs": [
        {
          "output_type": "stream",
          "text": [
            "Model: \"functional_1\"\n",
            "__________________________________________________________________________________________________\n",
            "Layer (type)                    Output Shape         Param #     Connected to                     \n",
            "==================================================================================================\n",
            "input_1 (InputLayer)            [(None, 20)]         0                                            \n",
            "__________________________________________________________________________________________________\n",
            "input_2 (InputLayer)            [(None, 20)]         0                                            \n",
            "__________________________________________________________________________________________________\n",
            "embedding (Embedding)           (None, 20, 256)      2560000     input_1[0][0]                    \n",
            "                                                                 input_2[0][0]                    \n",
            "__________________________________________________________________________________________________\n",
            "lstm (LSTM)                     (None, 128)          197120      embedding[0][0]                  \n",
            "                                                                 embedding[1][0]                  \n",
            "__________________________________________________________________________________________________\n",
            "concatenate (Concatenate)       (None, 256)          0           lstm[0][0]                       \n",
            "                                                                 lstm[1][0]                       \n",
            "__________________________________________________________________________________________________\n",
            "dense (Dense)                   (None, 3)            771         concatenate[0][0]                \n",
            "==================================================================================================\n",
            "Total params: 2,757,891\n",
            "Trainable params: 2,757,891\n",
            "Non-trainable params: 0\n",
            "__________________________________________________________________________________________________\n"
          ],
          "name": "stdout"
        }
      ]
    },
    {
      "cell_type": "code",
      "metadata": {
        "id": "vMKIGcJAktdu"
      },
      "source": [
        "from keras.optimizers import Adam"
      ],
      "execution_count": 36,
      "outputs": []
    },
    {
      "cell_type": "code",
      "metadata": {
        "id": "BC6K2YK-kwV-"
      },
      "source": [
        "lr = 1e-3\n",
        "opt = Adam(lr=lr, decay=lr/50)\n",
        "model.compile(\n",
        "    optimizer='adam',\n",
        "    loss='categorical_crossentropy',\n",
        "    metrics=['accuracy'])"
      ],
      "execution_count": 37,
      "outputs": []
    },
    {
      "cell_type": "code",
      "metadata": {
        "colab": {
          "base_uri": "https://localhost:8080/"
        },
        "id": "6Rn09_TwkyTn",
        "outputId": "1bcaf068-b236-4d6b-90ac-6c102361fbdc"
      },
      "source": [
        "x1_train[:9527].shape"
      ],
      "execution_count": 38,
      "outputs": [
        {
          "output_type": "execute_result",
          "data": {
            "text/plain": [
              "(9527, 20)"
            ]
          },
          "metadata": {
            "tags": []
          },
          "execution_count": 38
        }
      ]
    },
    {
      "cell_type": "code",
      "metadata": {
        "colab": {
          "base_uri": "https://localhost:8080/"
        },
        "id": "EkEP6-XRk0uh",
        "outputId": "5f133859-bcec-47ba-d523-ac1e59dfcdbb"
      },
      "source": [
        "BATCH_SIZE = 512\n",
        "\n",
        "NUM_EPOCHS = 25\n",
        "\n",
        "history = model.fit(\n",
        "    x=[x1_train, x2_train], \n",
        "    y=y_train,\n",
        "    batch_size=BATCH_SIZE,\n",
        "    epochs=NUM_EPOCHS,\n",
        "    validation_data=(\n",
        "        [x1_val, x2_val], \n",
        "        y_val\n",
        "    ),\n",
        "    shuffle=True\n",
        ")"
      ],
      "execution_count": 39,
      "outputs": [
        {
          "output_type": "stream",
          "text": [
            "Epoch 1/25\n",
            "401/401 [==============================] - 21s 52ms/step - loss: 0.5320 - accuracy: 0.7540 - val_loss: 0.4570 - val_accuracy: 0.7904\n",
            "Epoch 2/25\n",
            "401/401 [==============================] - 20s 49ms/step - loss: 0.4095 - accuracy: 0.8139 - val_loss: 0.4349 - val_accuracy: 0.8041\n",
            "Epoch 3/25\n",
            "401/401 [==============================] - 19s 49ms/step - loss: 0.3628 - accuracy: 0.8383 - val_loss: 0.4302 - val_accuracy: 0.8128\n",
            "Epoch 4/25\n",
            "401/401 [==============================] - 19s 48ms/step - loss: 0.3255 - accuracy: 0.8568 - val_loss: 0.4317 - val_accuracy: 0.8183\n",
            "Epoch 5/25\n",
            "401/401 [==============================] - 19s 47ms/step - loss: 0.2930 - accuracy: 0.8719 - val_loss: 0.4339 - val_accuracy: 0.8192\n",
            "Epoch 6/25\n",
            "401/401 [==============================] - 19s 48ms/step - loss: 0.2649 - accuracy: 0.8852 - val_loss: 0.4572 - val_accuracy: 0.8207\n",
            "Epoch 7/25\n",
            "401/401 [==============================] - 19s 47ms/step - loss: 0.2389 - accuracy: 0.8979 - val_loss: 0.4708 - val_accuracy: 0.8228\n",
            "Epoch 8/25\n",
            "401/401 [==============================] - 19s 47ms/step - loss: 0.2149 - accuracy: 0.9082 - val_loss: 0.4960 - val_accuracy: 0.8219\n",
            "Epoch 9/25\n",
            "401/401 [==============================] - 18s 46ms/step - loss: 0.1938 - accuracy: 0.9187 - val_loss: 0.5252 - val_accuracy: 0.8228\n",
            "Epoch 10/25\n",
            "401/401 [==============================] - 19s 48ms/step - loss: 0.1740 - accuracy: 0.9282 - val_loss: 0.5561 - val_accuracy: 0.8207\n",
            "Epoch 11/25\n",
            "401/401 [==============================] - 19s 48ms/step - loss: 0.1570 - accuracy: 0.9359 - val_loss: 0.5963 - val_accuracy: 0.8249\n",
            "Epoch 12/25\n",
            "401/401 [==============================] - 18s 46ms/step - loss: 0.1416 - accuracy: 0.9424 - val_loss: 0.6207 - val_accuracy: 0.8218\n",
            "Epoch 13/25\n",
            "401/401 [==============================] - 19s 47ms/step - loss: 0.1285 - accuracy: 0.9483 - val_loss: 0.6607 - val_accuracy: 0.8210\n",
            "Epoch 14/25\n",
            "401/401 [==============================] - 20s 50ms/step - loss: 0.1170 - accuracy: 0.9536 - val_loss: 0.6884 - val_accuracy: 0.8223\n",
            "Epoch 15/25\n",
            "401/401 [==============================] - 19s 48ms/step - loss: 0.1065 - accuracy: 0.9583 - val_loss: 0.7412 - val_accuracy: 0.8207\n",
            "Epoch 16/25\n",
            "401/401 [==============================] - 19s 47ms/step - loss: 0.0979 - accuracy: 0.9621 - val_loss: 0.8069 - val_accuracy: 0.8202\n",
            "Epoch 17/25\n",
            "401/401 [==============================] - 19s 47ms/step - loss: 0.0908 - accuracy: 0.9653 - val_loss: 0.8160 - val_accuracy: 0.8230\n",
            "Epoch 18/25\n",
            "401/401 [==============================] - 20s 49ms/step - loss: 0.0836 - accuracy: 0.9685 - val_loss: 0.8825 - val_accuracy: 0.8232\n",
            "Epoch 19/25\n",
            "401/401 [==============================] - 20s 49ms/step - loss: 0.0789 - accuracy: 0.9702 - val_loss: 0.8842 - val_accuracy: 0.8195\n",
            "Epoch 20/25\n",
            "401/401 [==============================] - 20s 49ms/step - loss: 0.0744 - accuracy: 0.9719 - val_loss: 0.9374 - val_accuracy: 0.8209\n",
            "Epoch 21/25\n",
            "401/401 [==============================] - 19s 48ms/step - loss: 0.0691 - accuracy: 0.9742 - val_loss: 0.9610 - val_accuracy: 0.8221\n",
            "Epoch 22/25\n",
            "401/401 [==============================] - 20s 50ms/step - loss: 0.0651 - accuracy: 0.9758 - val_loss: 0.9942 - val_accuracy: 0.8211\n",
            "Epoch 23/25\n",
            "401/401 [==============================] - 20s 49ms/step - loss: 0.0618 - accuracy: 0.9769 - val_loss: 1.0276 - val_accuracy: 0.8184\n",
            "Epoch 24/25\n",
            "401/401 [==============================] - 20s 49ms/step - loss: 0.0597 - accuracy: 0.9778 - val_loss: 1.0413 - val_accuracy: 0.8192\n",
            "Epoch 25/25\n",
            "401/401 [==============================] - 20s 50ms/step - loss: 0.0563 - accuracy: 0.9791 - val_loss: 1.0595 - val_accuracy: 0.8201\n"
          ],
          "name": "stdout"
        }
      ]
    },
    {
      "cell_type": "code",
      "metadata": {
        "colab": {
          "base_uri": "https://localhost:8080/"
        },
        "id": "Ko_1mcWNMzCJ",
        "outputId": "4345f2a1-41d5-4abe-f530-853c84f91e55"
      },
      "source": [
        "loss, accuracy = model.evaluate([x1_val,x2_val], y_val, verbose=1)\n",
        "print(\"Test: accuracy = %f  ;  loss = %f\" % (accuracy, loss))\n",
        "model.save(\"model_optimizer_sgd.h5\")"
      ],
      "execution_count": 40,
      "outputs": [
        {
          "output_type": "stream",
          "text": [
            "1603/1603 [==============================] - 6s 4ms/step - loss: 1.0595 - accuracy: 0.8201\n",
            "Test: accuracy = 0.820137  ;  loss = 1.059487\n"
          ],
          "name": "stdout"
        }
      ]
    },
    {
      "cell_type": "code",
      "metadata": {
        "colab": {
          "base_uri": "https://localhost:8080/",
          "height": 265
        },
        "id": "SRK_7uUYPpLl",
        "outputId": "db097ef9-b563-44b3-841f-27b892e48595"
      },
      "source": [
        "fig, axs = plt.subplots(2,1)\n",
        "axs[0].plot(history.history['loss'], color = 'b', label = \"Training Loss\")\n",
        "axs[0].plot(history.history['val_loss'], color = 'r', label = \"Validation Loss\", axes = axs[0])\n",
        "legend = axs[0].legend(loc='best', shadow = True)\n",
        "\n",
        "axs[1].plot(history.history['accuracy'], color = 'b', label = \"Training Accuracy\")\n",
        "axs[1].plot(history.history['val_accuracy'], color = 'r', label = \"Validation Accuracy\")\n",
        "legend = axs[1].legend(loc='best', shadow = True)"
      ],
      "execution_count": 41,
      "outputs": [
        {
          "output_type": "display_data",
          "data": {
            "image/png": "[encoded data removed]",
            "text/plain": [
              "<Figure size 432x288 with 2 Axes>"
            ]
          },
          "metadata": {
            "tags": [],
            "needs_background": "light"
          }
        }
      ]
    },
    {
      "cell_type": "code",
      "metadata": {
        "id": "hQGXRrCfRi7W"
      },
      "source": [
        "# Function to plot confusion matrix    \n",
        "import itertools\n",
        "labels=['unrelated','agreed','disagreed']\n",
        "def plot_confusion_matrix(cm, classes,\n",
        "                          normalize=False,\n",
        "                          title='Confusion matrix',class_names=labels,\n",
        "                          cmap=plt.cm.Blues):\n",
        "    \"\"\"\n",
        "    This function prints and plots the confusion matrix.\n",
        "    Normalization can be applied by setting `normalize=True`.\n",
        "    \"\"\"\n",
        "    plt.imshow(cm, interpolation='nearest', cmap=cmap)\n",
        "    plt.title(title)\n",
        "    plt.colorbar()\n",
        "    tick_marks = np.arange(len(classes))\n",
        "    plt.xticks(tick_marks, classes, rotation=45)\n",
        "    plt.yticks(tick_marks, classes)\n",
        "\n",
        "    if normalize:\n",
        "        cm = cm.astype('float') / cm.sum(axis=1)[:, np.newaxis]\n",
        "\n",
        "    thresh = cm.max() / 2.\n",
        "    for i, j in itertools.product(range(cm.shape[0]), range(cm.shape[1])):\n",
        "        plt.text(j, i, cm[i, j],\n",
        "                 horizontalalignment=\"center\",\n",
        "                 color=\"white\" if cm[i, j] > thresh else \"black\")\n",
        "\n",
        "    plt.tight_layout()\n",
        "    plt.ylabel('True label')\n",
        "    plt.xlabel('Predicted label')"
      ],
      "execution_count": 42,
      "outputs": []
    },
    {
      "cell_type": "code",
      "metadata": {
        "id": "8Ueo1a0xPpTh"
      },
      "source": [
        "y_pred=model.predict([x1_val,x2_val])"
      ],
      "execution_count": 43,
      "outputs": []
    },
    {
      "cell_type": "code",
      "metadata": {
        "colab": {
          "base_uri": "https://localhost:8080/"
        },
        "id": "n6g5onrzPpb1",
        "outputId": "163f731f-3a25-44df-cd81-15067d4a4bc1"
      },
      "source": [
        "y_pred"
      ],
      "execution_count": 44,
      "outputs": [
        {
          "output_type": "execute_result",
          "data": {
            "text/plain": [
              "array([[6.3200877e-03, 9.9367988e-01, 3.0013164e-10],\n",
              "       [9.9966872e-01, 6.7311150e-11, 3.3128873e-04],\n",
              "       [9.9741781e-01, 1.4999986e-09, 2.5822215e-03],\n",
              "       ...,\n",
              "       [9.9835604e-01, 1.6438153e-03, 1.1962693e-07],\n",
              "       [3.0753039e-05, 9.9996924e-01, 5.6022277e-13],\n",
              "       [9.9988627e-01, 6.9542308e-05, 4.4276814e-05]], dtype=float32)"
            ]
          },
          "metadata": {
            "tags": []
          },
          "execution_count": 44
        }
      ]
    },
    {
      "cell_type": "code",
      "metadata": {
        "id": "zZTgXyCYRWWz"
      },
      "source": [
        "Y_pred_classes = np.argmax(y_pred,axis = 1) "
      ],
      "execution_count": 45,
      "outputs": []
    },
    {
      "cell_type": "code",
      "metadata": {
        "id": "M_KI6QGMRWZf"
      },
      "source": [
        "Y_true = np.argmax(y_val,axis = 1) \n",
        "# compute the confusion matrix\n",
        "confusion_mtx = confusion_matrix(Y_true, Y_pred_classes)\n"
      ],
      "execution_count": 46,
      "outputs": []
    },
    {
      "cell_type": "code",
      "metadata": {
        "colab": {
          "base_uri": "https://localhost:8080/",
          "height": 311
        },
        "id": "6cj54LgkRksb",
        "outputId": "88f58ded-9945-4dbd-dccf-9af7925976ba"
      },
      "source": [
        "plot_confusion_matrix(confusion_mtx, classes = range(3),class_names=['unrelated','agreed','disagreed']) \n",
        "##  unrelated: 0 \n",
        "## agreed: 1 \n",
        "## disagreed: 2"
      ],
      "execution_count": 47,
      "outputs": [
        {
          "output_type": "display_data",
          "data": {
            "image/png": "[encoded data removed]",
            "text/plain": [
              "<Figure size 432x288 with 2 Axes>"
            ]
          },
          "metadata": {
            "tags": [],
            "needs_background": "light"
          }
        }
      ]
    },
    {
      "cell_type": "code",
      "metadata": {
        "id": "8KWQWbEuRlKe",
        "colab": {
          "base_uri": "https://localhost:8080/"
        },
        "outputId": "91380dba-e1d5-4cc1-dd10-a9faac38ea73"
      },
      "source": [
        "precision_score(Y_true,Y_pred_classes,average=\"weighted\")"
      ],
      "execution_count": 48,
      "outputs": [
        {
          "output_type": "execute_result",
          "data": {
            "text/plain": [
              "0.8205034909648578"
            ]
          },
          "metadata": {
            "tags": []
          },
          "execution_count": 48
        }
      ]
    },
    {
      "cell_type": "code",
      "metadata": {
        "id": "9b5keYnuRlNF",
        "colab": {
          "base_uri": "https://localhost:8080/"
        },
        "outputId": "bdfe5f96-5682-4d42-9919-6e70aad1d474"
      },
      "source": [
        "recall_score(Y_true,Y_pred_classes,average=\"weighted\")"
      ],
      "execution_count": 49,
      "outputs": [
        {
          "output_type": "execute_result",
          "data": {
            "text/plain": [
              "0.820136871453918"
            ]
          },
          "metadata": {
            "tags": []
          },
          "execution_count": 49
        }
      ]
    },
    {
      "cell_type": "code",
      "metadata": {
        "id": "esou7hyqRlP5"
      },
      "source": [
        ""
      ],
      "execution_count": 49,
      "outputs": []
    },
    {
      "cell_type": "code",
      "metadata": {
        "id": "lxnfpV96RlSy"
      },
      "source": [
        ""
      ],
      "execution_count": 49,
      "outputs": []
    },
    {
      "cell_type": "code",
      "metadata": {
        "id": "Y6RY3NPdk3CH",
        "colab": {
          "base_uri": "https://localhost:8080/",
          "height": 190
        },
        "outputId": "6ffed6f6-7ba0-4521-b7f3-4bb3561e5f0e"
      },
      "source": [
        "import pandas as pd\n",
        "import os\n",
        "\n",
        "print(\"Use raw test csv\")\n",
        "test = pd.read_csv(\"/content/gdrive/My Drive/FakeNewsDataSet/test.csv\", index_col=0)\n",
        "test.fillna('UNKNOWN', inplace=True)\n",
        "test.head(3)"
      ],
      "execution_count": 50,
      "outputs": [
        {
          "output_type": "stream",
          "text": [
            "Use raw test csv\n"
          ],
          "name": "stdout"
        },
        {
          "output_type": "execute_result",
          "data": {
            "text/html": [
              "<div>\n",
              "<style scoped>\n",
              "    .dataframe tbody tr th:only-of-type {\n",
              "        vertical-align: middle;\n",
              "    }\n",
              "\n",
              "    .dataframe tbody tr th {\n",
              "        vertical-align: top;\n",
              "    }\n",
              "\n",
              "    .dataframe thead th {\n",
              "        text-align: right;\n",
              "    }\n",
              "</style>\n",
              "<table border=\"1\" class=\"dataframe\">\n",
              "  <thead>\n",
              "    <tr style=\"text-align: right;\">\n",
              "      <th></th>\n",
              "      <th>tid1</th>\n",
              "      <th>tid2</th>\n",
              "      <th>title1_en</th>\n",
              "      <th>title2_en</th>\n",
              "    </tr>\n",
              "    <tr>\n",
              "      <th>id</th>\n",
              "      <th></th>\n",
              "      <th></th>\n",
              "      <th></th>\n",
              "      <th></th>\n",
              "    </tr>\n",
              "  </thead>\n",
              "  <tbody>\n",
              "    <tr>\n",
              "      <th>256442</th>\n",
              "      <td>100672</td>\n",
              "      <td>100673</td>\n",
              "      <td>The great coat brother Zhu Zhu Wen, in the man...</td>\n",
              "      <td>Lin xinsheng after the birth of \"hard milking,...</td>\n",
              "    </tr>\n",
              "    <tr>\n",
              "      <th>256443</th>\n",
              "      <td>162269</td>\n",
              "      <td>162270</td>\n",
              "      <td>NASA reveals facts about UFO wreckage found on...</td>\n",
              "      <td>The UFO found in Yuancun, Jiaocheng County, Sh...</td>\n",
              "    </tr>\n",
              "    <tr>\n",
              "      <th>256444</th>\n",
              "      <td>157826</td>\n",
              "      <td>157854</td>\n",
              "      <td>The hollow tomatoes are loaded with hormones.</td>\n",
              "      <td>Li chenfan bingbing home photos, netizen: this...</td>\n",
              "    </tr>\n",
              "  </tbody>\n",
              "</table>\n",
              "</div>"
            ],
            "text/plain": [
              "          tid1  ...                                          title2_en\n",
              "id              ...                                                   \n",
              "256442  100672  ...  Lin xinsheng after the birth of \"hard milking,...\n",
              "256443  162269  ...  The UFO found in Yuancun, Jiaocheng County, Sh...\n",
              "256444  157826  ...  Li chenfan bingbing home photos, netizen: this...\n",
              "\n",
              "[3 rows x 4 columns]"
            ]
          },
          "metadata": {
            "tags": []
          },
          "execution_count": 50
        }
      ]
    },
    {
      "cell_type": "code",
      "metadata": {
        "id": "f1Mij1MOlI0C"
      },
      "source": [
        "x1_test = tokenizer \\\n",
        "    .texts_to_sequences(\n",
        "        test.title1_en)\n",
        "x2_test = tokenizer \\\n",
        "    .texts_to_sequences(\n",
        "        test.title2_en)\n",
        "\n",
        "\n",
        "x1_test = keras \\\n",
        "    .preprocessing \\\n",
        "    .sequence \\\n",
        "    .pad_sequences(\n",
        "        x1_test, \n",
        "        maxlen=MAX_SEQUENCE_LENGTH)\n",
        "x2_test = keras \\\n",
        "    .preprocessing \\\n",
        "    .sequence \\\n",
        "    .pad_sequences(\n",
        "        x2_test, \n",
        "        maxlen=MAX_SEQUENCE_LENGTH)    \n",
        "\n",
        "\n",
        "predictions = model.predict(\n",
        "    [x1_test, x2_test])"
      ],
      "execution_count": 51,
      "outputs": []
    },
    {
      "cell_type": "code",
      "metadata": {
        "id": "TcxM_PZYmC4Z",
        "colab": {
          "base_uri": "https://localhost:8080/"
        },
        "outputId": "0af0155e-9cbf-4820-c411-2f6ece132595"
      },
      "source": [
        "predictions[:5]"
      ],
      "execution_count": 52,
      "outputs": [
        {
          "output_type": "execute_result",
          "data": {
            "text/plain": [
              "array([[9.6216691e-01, 3.7833035e-02, 1.0167734e-09],\n",
              "       [9.7947139e-01, 2.0528631e-02, 2.2191711e-09],\n",
              "       [9.9999833e-01, 1.8052839e-07, 1.3779170e-06],\n",
              "       [9.0867978e-01, 9.1320112e-02, 9.6117340e-08],\n",
              "       [1.0000000e+00, 4.7767777e-08, 3.1200646e-11]], dtype=float32)"
            ]
          },
          "metadata": {
            "tags": []
          },
          "execution_count": 52
        }
      ]
    },
    {
      "cell_type": "code",
      "metadata": {
        "id": "MWiIBOZGmKDP",
        "colab": {
          "base_uri": "https://localhost:8080/",
          "height": 17
        },
        "outputId": "a10ecc7f-e864-43d0-8128-85785255124d"
      },
      "source": [
        "index_to_label = {v: k for k, v in label_to_index.items()}\n",
        "\n",
        "test['Category'] = [index_to_label[idx] for idx in np.argmax(predictions, axis=1)]\n",
        "\n",
        "submission = test \\\n",
        "    .loc[:, ['Category']] \\\n",
        "    .reset_index()\n",
        "\n",
        "submission.columns = ['Id', 'Category']\n",
        "submission.to_csv('submission.csv', index=False)\n",
        "submission.head()\n",
        "from google.colab import files\n",
        "files.download('submission.csv')"
      ],
      "execution_count": 53,
      "outputs": [
        {
          "output_type": "display_data",
          "data": {
            "application/javascript": [
              "\n",
              "    async function download(id, filename, size) {\n",
              "      if (!google.colab.kernel.accessAllowed) {\n",
              "        return;\n",
              "      }\n",
              "      const div = document.createElement('div');\n",
              "      const label = document.createElement('label');\n",
              "      label.textContent = `Downloading \"${filename}\": `;\n",
              "      div.appendChild(label);\n",
              "      const progress = document.createElement('progress');\n",
              "      progress.max = size;\n",
              "      div.appendChild(progress);\n",
              "      document.body.appendChild(div);\n",
              "\n",
              "      const buffers = [];\n",
              "      let downloaded = 0;\n",
              "\n",
              "      const channel = await google.colab.kernel.comms.open(id);\n",
              "      // Send a message to notify the kernel that we're ready.\n",
              "      channel.send({})\n",
              "\n",
              "      for await (const message of channel.messages) {\n",
              "        // Send a message to notify the kernel that we're ready.\n",
              "        channel.send({})\n",
              "        if (message.buffers) {\n",
              "          for (const buffer of message.buffers) {\n",
              "            buffers.push(buffer);\n",
              "            downloaded += buffer.byteLength;\n",
              "            progress.value = downloaded;\n",
              "          }\n",
              "        }\n",
              "      }\n",
              "      const blob = new Blob(buffers, {type: 'application/binary'});\n",
              "      const a = document.createElement('a');\n",
              "      a.href = window.URL.createObjectURL(blob);\n",
              "      a.download = filename;\n",
              "      div.appendChild(a);\n",
              "      a.click();\n",
              "      div.remove();\n",
              "    }\n",
              "  "
            ],
            "text/plain": [
              "<IPython.core.display.Javascript object>"
            ]
          },
          "metadata": {
            "tags": []
          }
        },
        {
          "output_type": "display_data",
          "data": {
            "application/javascript": [
              "download(\"download_23fc249a-79b1-4d7a-bb5e-7f7d60cadc1c\", \"submission.csv\", 1032624)"
            ],
            "text/plain": [
              "<IPython.core.display.Javascript object>"
            ]
          },
          "metadata": {
            "tags": []
          }
        }
      ]
    },
    {
      "cell_type": "code",
      "metadata": {
        "id": "KxElkqrJmM_3"
      },
      "source": [
        ""
      ],
      "execution_count": 53,
      "outputs": []
    }
  ]
}